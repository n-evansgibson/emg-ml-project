{
  "nbformat": 4,
  "nbformat_minor": 0,
  "metadata": {
    "colab": {
      "provenance": [],
      "authorship_tag": "ABX9TyOR43yooQCTn+8RzHGZEFTe"
    },
    "kernelspec": {
      "name": "python3",
      "display_name": "Python 3"
    },
    "language_info": {
      "name": "python"
    }
  },
  "cells": [
    {
      "cell_type": "markdown",
      "source": [
        "# Step 0: Mounts and Imports"
      ],
      "metadata": {
        "id": "1OCKitvTp48M"
      }
    },
    {
      "cell_type": "code",
      "execution_count": 1,
      "metadata": {
        "id": "0lff0iFBQcDO",
        "colab": {
          "base_uri": "https://localhost:8080/"
        },
        "outputId": "cfe74ef1-4d3d-4494-83f0-8d685815060f"
      },
      "outputs": [
        {
          "output_type": "stream",
          "name": "stdout",
          "text": [
            "Mounted at /content/drive\n"
          ]
        }
      ],
      "source": [
        "# Mounting Google Drive\n",
        "from google.colab import drive, output, files\n",
        "drive.mount('/content/drive')"
      ]
    },
    {
      "cell_type": "code",
      "source": [
        "# Note: The extension ipympl enables interactive features for matplotlib\n",
        "!pip install -q ipympl\n",
        "get_ipython().kernel.do_shutdown(restart=True)\n",
        "\n",
        "from google.colab import output\n",
        "output.enable_custom_widget_manager()\n",
        "\n",
        "%matplotlib ipympl"
      ],
      "metadata": {
        "id": "PxuOAUwZpN68"
      },
      "execution_count": 1,
      "outputs": []
    },
    {
      "cell_type": "code",
      "source": [
        "# Main Imports\n",
        "import scipy.io as sio\n",
        "import scipy.signal\n",
        "import pandas as pd\n",
        "import numpy as np\n",
        "import matplotlib.pyplot as plt\n",
        "import seaborn as sns           # Used to create confusion heatmaps\n",
        "import os                       # Used to convert between dataframe and csv\n",
        "import pywt                     # Used to perform wavelet transform\n",
        "\n",
        "# Classifier imports\n",
        "from sklearn import model_selection\n",
        "from sklearn.ensemble import RandomForestClassifier\n",
        "from sklearn.neighbors import KNeighborsClassifier\n",
        "from sklearn.svm import SVC\n",
        "from sklearn.preprocessing import StandardScaler\n",
        "from sklearn.metrics import accuracy_score, confusion_matrix\n",
        "from sklearn.inspection import permutation_importance\n",
        "from sklearn.decomposition import PCA"
      ],
      "metadata": {
        "id": "L4JaPsHOpPSa"
      },
      "execution_count": 1,
      "outputs": []
    },
    {
      "cell_type": "code",
      "source": [
        "# Utils import\n",
        "!cp /content/drive/MyDrive/Grasp\\ Project\\ /Data\\ /Our\\ Model\\ [External\\ Data\\ Analysis/utils_babyscript.py /content\n",
        "import utils_babyscript as ut\n",
        "\n",
        "import importlib\n",
        "importlib.reload(ut)"
      ],
      "metadata": {
        "colab": {
          "base_uri": "https://localhost:8080/"
        },
        "id": "N5EfJjM8pR16",
        "outputId": "9ff37efe-f632-4116-f674-58c752f4a040"
      },
      "execution_count": 2,
      "outputs": [
        {
          "output_type": "stream",
          "name": "stdout",
          "text": [
            "Drive already mounted at /content/drive; to attempt to forcibly remount, call drive.mount(\"/content/drive\", force_remount=True).\n",
            "Drive already mounted at /content/drive; to attempt to forcibly remount, call drive.mount(\"/content/drive\", force_remount=True).\n"
          ]
        },
        {
          "output_type": "execute_result",
          "data": {
            "text/plain": [
              "<module 'utils_babyscript' from '/content/utils_babyscript.py'>"
            ]
          },
          "metadata": {},
          "execution_count": 2
        }
      ]
    },
    {
      "cell_type": "code",
      "source": [
        "labels = {1: 'Large Diameter Grasp', 2: 'Small Diameter Grasp (power grip)',\n",
        "          3: 'Fixed Hook Grasp', 4: 'Index Finger Extension Grasp', 5:\n",
        "          'Medium Wrap', 6: 'Ring Grasp', 7: 'Prismatic Four Fingers Grasp',\n",
        "          8: 'Stick Grasp', 9: 'Writing Tripod Grasp', 10: 'Power Sphere Grasp',\n",
        "          11: 'Three Finger Sphere Grasp', 12: 'Precision Sphere Grasp', 13:\n",
        "          'Tripod Grasp', 14: 'Prismatic Pinch Grasp', 15: 'Tip Pinch Grasp',\n",
        "          16: 'Quadpod Grasp', 17: 'Lateral Grasp', 18: 'Parallel Extension Grasp',\n",
        "          19: 'Extension Type Grasp', 20: 'Power Disk Grasp', 21: 'Open a Bottle with a Tripod Grasp',\n",
        "          22: 'Turn a Screw', 23: 'Cut Something'}"
      ],
      "metadata": {
        "id": "q1W_UfyUlEDI"
      },
      "execution_count": 3,
      "outputs": []
    },
    {
      "cell_type": "markdown",
      "source": [
        "# Step 2: Process Subject 1 kinematic data."
      ],
      "metadata": {
        "id": "NVp2wbmfqD9T"
      }
    },
    {
      "cell_type": "code",
      "source": [
        "# Loads MATLAB file for Subject 1\n",
        "subject1_file_path = '/content/drive/MyDrive/Grasp Project /Data /Ninapro DB1/Subject_1/S1_A1_E3.mat'\n",
        "subject1_file_dict = sio.loadmat(subject1_file_path)"
      ],
      "metadata": {
        "id": "VjsRsQEfqCar"
      },
      "execution_count": 42,
      "outputs": []
    },
    {
      "cell_type": "code",
      "source": [
        "# Process kinematic data for subject 1 by converting it to a Pandas dataframe\n",
        "'''\n",
        "Note: Kinematic data in Ninapro DB1 was originally sampled at 25 Hz, but it was\n",
        "linearly interpolated to match the 100 Hz EMG signal. The process_ninapro_subject\n",
        "function uses sampling rate to add a time column to the dataframe, which is why\n",
        "I am using a sampling rate of 100 Hz here.\n",
        "'''\n",
        "sampling_rate = 100\n",
        "subject1_kinematic_dataframe, _ = ut.process_ninapro_subject(subject1_file_path,\n",
        "                                                             sampling_rate)"
      ],
      "metadata": {
        "id": "OnwfCeaGqo_c"
      },
      "execution_count": 43,
      "outputs": []
    },
    {
      "cell_type": "code",
      "source": [
        "# Filter data using a 6 Hz low-pass butterworth filter on a data singal.\n",
        "kinematic_sampling_rate = 25\n",
        "subject1_filtered_kin_dataframe = ut.filter_data(subject1_kinematic_dataframe,\n",
        "                                                 kinematic_sampling_rate,\n",
        "                                                'kinematics')"
      ],
      "metadata": {
        "id": "tnOzMEh6sF8x"
      },
      "execution_count": 44,
      "outputs": []
    },
    {
      "cell_type": "code",
      "source": [
        "'''\n",
        "normalize_kinematic_data(filtered_dataframe)\n",
        "\n",
        "Purpose: Normalize kinematic data based on maximum/minimum joint extension.\n",
        "Parameters: filtered kinematic data (Pandas dataframe)\n",
        "Output: Normalized kinematic data (Pandas dataframe)\n",
        "'''\n",
        "\n",
        "def normalize_kinematic_data(filtered_dataframe):\n",
        "  normalized_dataframe = pd.DataFrame(index=filtered_dataframe.index)\n",
        "  for column in filtered_dataframe.columns:\n",
        "    if column == 'Time':\n",
        "      normalized_dataframe[column] = filtered_dataframe[column]\n",
        "      continue\n",
        "    column_min = filtered_dataframe[column].min()\n",
        "    column_max = filtered_dataframe[column].max()\n",
        "    if column_min == column_max:\n",
        "      normalized_dataframe[column] = 0\n",
        "    else:\n",
        "      normalized_dataframe[column] = (filtered_dataframe[column] - column_min) / (column_max - column_min)\n",
        "  return normalized_dataframe\n"
      ],
      "metadata": {
        "id": "oEID06yP_rIs"
      },
      "execution_count": 45,
      "outputs": []
    },
    {
      "cell_type": "code",
      "source": [
        "# Normalize kinematic data based on maximum/minumum joint extension\n",
        "subject1_normalized_kin_dataframe = normalize_kinematic_data(subject1_filtered_kin_dataframe)"
      ],
      "metadata": {
        "id": "EtYnsJtn_PRD"
      },
      "execution_count": 46,
      "outputs": []
    },
    {
      "cell_type": "code",
      "source": [
        "# Segment the data based on restimulus file. Results in a list of dataframes.\n",
        "subject1_restimulus_data = subject1_file_dict['restimulus']\n",
        "restim_timestamps, restim_labels = ut.gather_restim_timestamps_and_labels(subject1_restimulus_data)\n",
        "subject1_kinematic_trials = ut.segment_data(subject1_normalized_kin_dataframe, restim_timestamps)\n",
        "\n",
        "# Segmentation based on stimulus data (for visualization only)\n",
        "subject1_stimulus_data = subject1_file_dict['stimulus']\n",
        "stim_timestamps, stim_labels = ut.gather_restim_timestamps_and_labels(subject1_stimulus_data)\n",
        "subject1_kinematic_trials_stim = ut.segment_data(subject1_normalized_kin_dataframe, stim_timestamps)"
      ],
      "metadata": {
        "id": "Td54zFURtAbd"
      },
      "execution_count": 47,
      "outputs": []
    },
    {
      "cell_type": "markdown",
      "source": [
        "Visualization of fully processed kinematic data for one grasp type:"
      ],
      "metadata": {
        "id": "qa08sqm3vLK7"
      }
    },
    {
      "cell_type": "code",
      "source": [
        "ut.visualize_full_grasp(subject1_kinematic_trials_stim, 3, ['Angle_7', 'Angle_3'])"
      ],
      "metadata": {
        "colab": {
          "base_uri": "https://localhost:8080/",
          "height": 413
        },
        "id": "l1ZgwZCStr_N",
        "outputId": "52f3a41e-5833-4a25-8f96-b29ec861780b"
      },
      "execution_count": 48,
      "outputs": [
        {
          "output_type": "display_data",
          "data": {
            "text/plain": [
              "<Figure size 1000x400 with 1 Axes>"
            ],
            "image/png": "[encoded data removed]"
          },
          "metadata": {}
        }
      ]
    },
    {
      "cell_type": "markdown",
      "source": [
        "# Step 3: Extract features from Subject 1 kinematic data."
      ],
      "metadata": {
        "id": "lI-_RQTZv6wE"
      }
    },
    {
      "cell_type": "code",
      "source": [
        "'''\n",
        "get_kinematic_features(kinematic_data)\n",
        "\n",
        "Purpose: Extract basic statistical and dynamic kinematic features for each\n",
        "joint measured by the Cyberglove II system.\n",
        "Parameters: segmented kinematic data (list of Pandas dataframes)\n",
        "Output: List of kinematic features for each trial (2D list). Each joint\n",
        "contributes a mean, std, range, median, iqr, mean velocity, and std velocity\n",
        "feature to that trial.\n",
        "'''\n",
        "def get_kinematic_features(kinematic_data):\n",
        "  results = []\n",
        "\n",
        "  for trial in kinematic_data:\n",
        "    trial_features = []\n",
        "    for column in trial.columns:\n",
        "      if column == 'Time':\n",
        "        continue\n",
        "      else:\n",
        "\n",
        "        # Standard extracted features: mean, standard deviation, range, median, iqr\n",
        "        mean = float(np.mean(trial[column]))\n",
        "        std = np.std(trial[column])\n",
        "        range = np.max(trial[column]) - np.min(trial[column])\n",
        "        median = float(np.median(trial[column]))\n",
        "        q1, q3 = np.percentile(trial[column], [25, 75])\n",
        "        iqr = float(q3 - q1)\n",
        "\n",
        "        # Dynamic extracted features: mean velocity, std. velocity\n",
        "        velocities = np.diff(trial[column])\n",
        "        mean_velocity = float(np.mean(velocities))\n",
        "        std_velocity = float(np.std(velocities))\n",
        "\n",
        "        trial_features.extend([mean, std, range, median, iqr, mean_velocity, std_velocity])\n",
        "    results.append(trial_features)\n",
        "  return results"
      ],
      "metadata": {
        "id": "J-FCWqp4v4yF"
      },
      "execution_count": 49,
      "outputs": []
    },
    {
      "cell_type": "code",
      "source": [
        "# Based on the results of the ML model, determine what the best features are to keep and which I should get rid of."
      ],
      "metadata": {
        "id": "UmqjUn2IRjIi"
      },
      "execution_count": null,
      "outputs": []
    },
    {
      "cell_type": "code",
      "source": [
        "subject1_kinematic_features = get_kinematic_features(subject1_kinematic_trials)"
      ],
      "metadata": {
        "id": "M1zfeKF1wJiF"
      },
      "execution_count": 50,
      "outputs": []
    },
    {
      "cell_type": "markdown",
      "source": [
        "# Step 4: Create a simple ML model for Subject 1."
      ],
      "metadata": {
        "id": "UudUFxezwNnu"
      }
    },
    {
      "cell_type": "code",
      "source": [
        "# Define x (features) and y (labels).\n",
        "x = subject1_kinematic_features\n",
        "y = restim_labels"
      ],
      "metadata": {
        "id": "lZ93Lg5PwS_3"
      },
      "execution_count": 51,
      "outputs": []
    },
    {
      "cell_type": "code",
      "source": [
        "# Split the kinematic data into test and training groups using an 80/20 data split.\n",
        "\n",
        "x_train, x_test, y_train, y_test = model_selection.train_test_split(x, y, test_size=0.2,\n",
        "                                                                    random_state=0)"
      ],
      "metadata": {
        "id": "5m9yI74Ywh5W"
      },
      "execution_count": 52,
      "outputs": []
    },
    {
      "cell_type": "code",
      "source": [
        "# Scale features.\n",
        "scaler = StandardScaler()\n",
        "x_train = scaler.fit_transform(x_train)\n",
        "x_test = scaler.transform(x_test)"
      ],
      "metadata": {
        "id": "S9MFHdCZxP_P"
      },
      "execution_count": 53,
      "outputs": []
    },
    {
      "cell_type": "markdown",
      "source": [
        "Here, I used RFECV to determine the optimal number of features for the ML model. However, after testing the new optimal training and test sets, I received lower accuracy."
      ],
      "metadata": {
        "id": "0-C2TdTj8CP1"
      }
    },
    {
      "cell_type": "code",
      "source": [
        "from sklearn.feature_selection import RFECV\n",
        "from sklearn.model_selection import StratifiedKFold\n",
        "\n",
        "selector = RFECV(estimator=model, step=10, cv=StratifiedKFold(5), scoring='accuracy')\n",
        "selector = selector.fit(x_train, y_train)\n",
        "\n",
        "X_train_rfe = selector.transform(x_train)\n",
        "X_test_rfe = selector.transform(x_test)\n",
        "\n",
        "print(f\"Optimal number of features: {selector.n_features_}\")\n",
        "\n",
        "'''\n",
        "Optimal number of features: 144\n",
        "'''"
      ],
      "metadata": {
        "collapsed": true,
        "id": "-ondbXBpXEvj"
      },
      "execution_count": null,
      "outputs": []
    },
    {
      "cell_type": "markdown",
      "source": [
        "I also experimented with PCA on the dataset. Again, I received a lower accuracy with the PCA training and test sets compared to the original."
      ],
      "metadata": {
        "id": "s87vN6c78Z6w"
      }
    },
    {
      "cell_type": "code",
      "source": [
        "# PCA  with 144 features\n",
        "\n",
        "pca = PCA(n_components=144)\n",
        "x_train_pca = pca.fit_transform(x_train)\n",
        "x_test_pca = pca.transform(x_test)\n",
        "\n",
        "print(f\"Shape of training data after PCA: {x_train_pca.shape}\")\n",
        "print(f\"Shape of test data after PCA: {x_test_pca.shape}\")\n"
      ],
      "metadata": {
        "colab": {
          "base_uri": "https://localhost:8080/"
        },
        "id": "9v0QXdjoeufJ",
        "outputId": "d816d7f9-0759-4383-c2b2-4bef96e8be91"
      },
      "execution_count": null,
      "outputs": [
        {
          "output_type": "stream",
          "name": "stdout",
          "text": [
            "Shape of training data after PCA: (184, 144)\n",
            "Shape of test data after PCA: (46, 144)\n"
          ]
        }
      ]
    },
    {
      "cell_type": "markdown",
      "source": [
        "Note how the accuracy is at its highest when all of the original features are not used, without PCA. So I will keep all kinematic features."
      ],
      "metadata": {
        "id": "ZyNPYvFcfrB6"
      }
    },
    {
      "cell_type": "code",
      "source": [
        "# Random Forest Classifier\n",
        "random_forest_model = RandomForestClassifier(bootstrap=True, ccp_alpha=0.0, class_weight=None,\n",
        "                                             criterion='gini', max_depth=None, max_features='sqrt',\n",
        "                                             max_leaf_nodes=None, max_samples=None, min_impurity_decrease=0.0,\n",
        "                                             min_samples_leaf=1, min_samples_split=2, min_weight_fraction_leaf=0.0,\n",
        "                                             monotonic_cst=None, n_estimators=100, n_jobs=None, oob_score=False,\n",
        "                                             random_state=None, verbose=0, warm_start=False)\n",
        "random_forest_model.fit(x_train, y_train)\n",
        "\n",
        "# Test the accuracy of the model.\n",
        "y_predicted = random_forest_model.predict(x_test)\n",
        "accuracy = accuracy_score(y_test, y_predicted)\n",
        "\n",
        "# Gets parameters of the model if it is accurate\n",
        "print(f'Random Forest Accuracy: {accuracy}')\n",
        "if accuracy >= 0.95:\n",
        "  params = random_forest_model.get_params()\n",
        "  print('Successful RF Parameters:')\n",
        "  print(params)"
      ],
      "metadata": {
        "colab": {
          "base_uri": "https://localhost:8080/"
        },
        "id": "zf3iSXnvz__A",
        "outputId": "c1abbdf6-8496-4eca-c542-454a91ccac0b"
      },
      "execution_count": 54,
      "outputs": [
        {
          "output_type": "stream",
          "name": "stdout",
          "text": [
            "Random Forest Accuracy: 0.9782608695652174\n",
            "Successful RF Parameters:\n",
            "{'bootstrap': True, 'ccp_alpha': 0.0, 'class_weight': None, 'criterion': 'gini', 'max_depth': None, 'max_features': 'sqrt', 'max_leaf_nodes': None, 'max_samples': None, 'min_impurity_decrease': 0.0, 'min_samples_leaf': 1, 'min_samples_split': 2, 'min_weight_fraction_leaf': 0.0, 'monotonic_cst': None, 'n_estimators': 100, 'n_jobs': None, 'oob_score': False, 'random_state': None, 'verbose': 0, 'warm_start': False}\n"
          ]
        }
      ]
    },
    {
      "cell_type": "markdown",
      "source": [
        "# Step 6: Combine the kinematic data for all participants."
      ],
      "metadata": {
        "id": "X-Fiu3es0LAQ"
      }
    },
    {
      "cell_type": "code",
      "source": [
        "# Create a list of folders with all Ninapro DB1 subjects\n",
        "ninaproDB1_folder_path = '/content/drive/MyDrive/Grasp Project /Data /Ninapro DB1'\n",
        "subject_folders = os.listdir(ninaproDB1_folder_path)"
      ],
      "metadata": {
        "id": "vNjErlBS0Kcn"
      },
      "execution_count": 19,
      "outputs": []
    },
    {
      "cell_type": "code",
      "source": [
        "'''\n",
        "get_kinematic_features_and_labels(subject_folders)\n",
        "\n",
        "Purpose: Gets all the kinematic features and labels for one subject.\n",
        "Parameters: subject folder path (str)\n",
        "Output: kinematic features (2D list) and labels (1D list)\n",
        "'''\n",
        "def get_kinematic_features_and_labels(subject_folder):\n",
        "\n",
        "  # Get path for folder\n",
        "  subject_folder_path = os.path.join(ninaproDB1_folder_path, subject_folder)\n",
        "\n",
        "  # Find data path for correct file using subject number\n",
        "  subject_number = ut.find_subject_number(subject_folder)\n",
        "  subject_data_path = subject_folder_path + f'/S{subject_number}_A1_E3.mat'\n",
        "  print(f'Processing Subject #{subject_number}...')\n",
        "\n",
        "  # Extract and filter kinematic data from file\n",
        "  subject_kinematic_data, _ = ut.process_ninapro_subject(subject_data_path, 100)\n",
        "  subject_filtered_kinematic_data = ut.filter_data(subject_kinematic_data, 25, 'kinematics')\n",
        "\n",
        "  # Normalize data\n",
        "  subject_normalized_kinematic_data = normalize_kinematic_data(subject_filtered_kinematic_data)\n",
        "\n",
        "  # Segment data\n",
        "  subject_restimulus_data = sio.loadmat(subject_data_path)['restimulus']\n",
        "  restim_timestamps, restim_labels = ut.gather_restim_timestamps_and_labels(subject_restimulus_data)\n",
        "  subject_kinematic_trials = ut.segment_data(subject_normalized_kinematic_data, restim_timestamps)\n",
        "\n",
        "  # Extract kinematic featuers\n",
        "  subject_kinematic_features = get_kinematic_features(subject_kinematic_trials)\n",
        "\n",
        "  return subject_kinematic_features, restim_labels"
      ],
      "metadata": {
        "id": "89uvGqHH2dqX"
      },
      "execution_count": 57,
      "outputs": []
    },
    {
      "cell_type": "code",
      "source": [
        "def process_all_subjects_kinematic(folder_list):\n",
        "  all_kinematic_features = []\n",
        "  all_labels = []\n",
        "\n",
        "  for folder in folder_list:\n",
        "    # Skip saved csv files and outliers\n",
        "    if folder in ['all_kinematic_features.csv', 'all_emg_features.csv',\n",
        "                  'all_kinematic_labels.csv', 'all_combined_features.csv',\n",
        "                  'Subject_27']:\n",
        "      continue\n",
        "    else:\n",
        "      # Get features\n",
        "      subject_kinematic_features, subject_labels = get_kinematic_features_and_labels(folder)\n",
        "      all_kinematic_features.extend(subject_kinematic_features)\n",
        "      all_labels.extend(subject_labels)\n",
        "    print('Done!')\n",
        "  return all_kinematic_features, all_labels\n",
        "\n",
        "all_kinematic_features, all_labels = process_all_subjects_kinematic(subject_folders)\n"
      ],
      "metadata": {
        "id": "6LgsYyYt6Ays",
        "colab": {
          "base_uri": "https://localhost:8080/"
        },
        "outputId": "e4ec1769-ee5d-49b9-e653-510a1d29ef41"
      },
      "execution_count": 58,
      "outputs": [
        {
          "output_type": "stream",
          "name": "stdout",
          "text": [
            "Processing Subject #1...\n",
            "Processing Subject #2...\n",
            "Processing Subject #3...\n",
            "Processing Subject #4...\n",
            "Processing Subject #5...\n",
            "Processing Subject #6...\n",
            "Processing Subject #7...\n",
            "Processing Subject #8...\n",
            "Processing Subject #9...\n",
            "Processing Subject #10...\n",
            "Processing Subject #11...\n",
            "Processing Subject #12...\n",
            "Processing Subject #13...\n",
            "Processing Subject #14...\n",
            "Processing Subject #15...\n",
            "Processing Subject #16...\n",
            "Processing Subject #17...\n",
            "Processing Subject #18...\n",
            "Processing Subject #19...\n",
            "Processing Subject #20...\n",
            "Processing Subject #21...\n",
            "Processing Subject #22...\n",
            "Processing Subject #23...\n",
            "Processing Subject #24...\n",
            "Processing Subject #25...\n",
            "Processing Subject #26...\n"
          ]
        }
      ]
    },
    {
      "cell_type": "code",
      "source": [
        "# This takes a long time to process! Here I will save the results as a csv.\n",
        "ut.features_to_csv(all_kinematic_features, 'all_kinematic_features.csv')\n",
        "ut.features_to_csv(all_labels, 'all_kinematic_labels.csv')"
      ],
      "metadata": {
        "id": "xFl-tRmje98Q"
      },
      "execution_count": 59,
      "outputs": []
    },
    {
      "cell_type": "code",
      "source": [
        "# Converts csv files back into useable features data\n",
        "all_kinematic_features = ut.csv_to_features('all_kinematic_features.csv')\n",
        "all_labels = ut.csv_to_features('all_kinematic_labels.csv')"
      ],
      "metadata": {
        "id": "ubGA5bQEgnii"
      },
      "execution_count": 60,
      "outputs": []
    },
    {
      "cell_type": "markdown",
      "source": [
        "# Step 7: Train new Random Forest classifier with full Kinematic database."
      ],
      "metadata": {
        "id": "gttwzDDdhGF4"
      }
    },
    {
      "cell_type": "code",
      "source": [
        "# Define x (features) and y (labels)\n",
        "x = all_kinematic_features\n",
        "y = all_labels"
      ],
      "metadata": {
        "id": "wag12T7QhFp3"
      },
      "execution_count": 69,
      "outputs": []
    },
    {
      "cell_type": "code",
      "source": [
        "# Split into test and training groups. Will use an 80/20 split.\n",
        "trials_per_subject = 230\n",
        "\n",
        "x_train, x_test, y_train, y_test = model_selection.train_test_split(x, y, test_size=trials_per_subject,\n",
        "                                                                    random_state=0)"
      ],
      "metadata": {
        "id": "1lqw-PgThg8a"
      },
      "execution_count": 87,
      "outputs": []
    },
    {
      "cell_type": "code",
      "source": [
        "# Scale the data.\n",
        "scaler = StandardScaler()\n",
        "x_train_scaled = scaler.fit_transform(x_train)\n",
        "x_test_scaled = scaler.transform(x_test)`"
      ],
      "metadata": {
        "id": "vLR8IN7Ch_Ek"
      },
      "execution_count": 88,
      "outputs": []
    },
    {
      "cell_type": "code",
      "source": [
        "# Create a basic random forest classifier.\n",
        "full_random_forest_model = RandomForestClassifier(bootstrap=True, ccp_alpha=0.0, class_weight=None, criterion='gini',\n",
        "                                                  max_depth=None, max_features='sqrt', max_leaf_nodes=None,\n",
        "                                                  max_samples=None, min_impurity_decrease=0.0, min_samples_leaf=1,\n",
        "                                                  min_samples_split=2, min_weight_fraction_leaf=0.0, monotonic_cst=None,\n",
        "                                                  n_estimators = 100, n_jobs=None, oob_score=False, random_state=None,\n",
        "                                                  verbose=0, warm_start=False)\n",
        "full_random_forest_model.fit(x_train_scaled, y_train)\n",
        "\n",
        "'''\n",
        "class_weight='balanced', max_depth=30,\n",
        "                            max_features='log2', min_samples_leaf=5,\n",
        "                            n_estimators=200, random_state=42\n",
        "'''"
      ],
      "metadata": {
        "colab": {
          "base_uri": "https://localhost:8080/",
          "height": 90
        },
        "id": "K8yQbQmshwki",
        "outputId": "5b06439a-d2b4-4a19-e8b7-7bf3b3eab68a"
      },
      "execution_count": 109,
      "outputs": [
        {
          "output_type": "stream",
          "name": "stderr",
          "text": [
            "/usr/local/lib/python3.11/dist-packages/sklearn/base.py:1389: DataConversionWarning: A column-vector y was passed when a 1d array was expected. Please change the shape of y to (n_samples,), for example using ravel().\n",
            "  return fit_method(estimator, *args, **kwargs)\n"
          ]
        },
        {
          "output_type": "execute_result",
          "data": {
            "text/plain": [
              "\"\\nclass_weight='balanced', max_depth=30,\\n                            max_features='log2', min_samples_leaf=5,\\n                            n_estimators=200, random_state=42\\n\""
            ],
            "application/vnd.google.colaboratory.intrinsic+json": {
              "type": "string"
            }
          },
          "metadata": {},
          "execution_count": 109
        }
      ]
    },
    {
      "cell_type": "code",
      "source": [
        "# Test the accuracy of the model\n",
        "y_predicted = full_random_forest_model.predict(x_test_scaled)\n",
        "accuracy = accuracy_score(y_test, y_predicted)\n",
        "\n",
        "print(f'Random Forest Accuracy: {accuracy}')\n",
        "# Gets paramaters of model if its accurate\n",
        "if accuracy >= 0.90:\n",
        "  params = full_random_forest_model.get_params()\n",
        "  print('Successful RF Parameters:')\n",
        "  print(params)"
      ],
      "metadata": {
        "colab": {
          "base_uri": "https://localhost:8080/"
        },
        "id": "x2fGaEGSh196",
        "outputId": "a2a07a11-b9c6-4b6e-c85b-cfe6f7f1e2d1"
      },
      "execution_count": 110,
      "outputs": [
        {
          "output_type": "stream",
          "name": "stdout",
          "text": [
            "Random Forest Accuracy: 0.9521739130434783\n",
            "Successful RF Parameters:\n",
            "{'bootstrap': True, 'ccp_alpha': 0.0, 'class_weight': None, 'criterion': 'gini', 'max_depth': None, 'max_features': 'sqrt', 'max_leaf_nodes': None, 'max_samples': None, 'min_impurity_decrease': 0.0, 'min_samples_leaf': 1, 'min_samples_split': 2, 'min_weight_fraction_leaf': 0.0, 'monotonic_cst': None, 'n_estimators': 100, 'n_jobs': None, 'oob_score': False, 'random_state': None, 'verbose': 0, 'warm_start': False}\n"
          ]
        }
      ]
    },
    {
      "cell_type": "code",
      "source": [
        "# Visualizing the confusion matrix with a Seaborn heatmap\n",
        "sns.heatmap(confusion_matrix(y_test, y_predicted), annot=True, cmap='Blues', cbar=False)\n",
        "plt.xlabel('Predicted Grasps')\n",
        "plt.ylabel('Actual Grasps')\n",
        "plt.title('Ninapro DB1: Random Forest Confusion Matrix')\n",
        "plt.show()"
      ],
      "metadata": {
        "colab": {
          "base_uri": "https://localhost:8080/",
          "height": 472
        },
        "id": "f0o4ABmAiLyY",
        "outputId": "381c0cbd-f03e-474d-a05d-e94a24ab4daf"
      },
      "execution_count": 111,
      "outputs": [
        {
          "output_type": "display_data",
          "data": {
            "text/plain": [
              "<Figure size 640x480 with 1 Axes>"
            ],
            "image/png": "[encoded data removed]"
          },
          "metadata": {}
        }
      ]
    },
    {
      "cell_type": "markdown",
      "source": [
        "# Step 8: Analysis of Kinematic model with PCA and Group K Fold."
      ],
      "metadata": {
        "id": "Cz1VcHB3sGzU"
      }
    },
    {
      "cell_type": "code",
      "source": [
        "#Use GroupKFold to simulate each subject being used as a member of the study. Display results in a table that is easy to understand.\n",
        "\n",
        "from sklearn.model_selection import GroupKFold\n",
        "\n",
        "# Create the 'groups' array. Each element corresponds to a trial and indicates\n",
        "# which subject the trial belongs to.\n",
        "num_subjects = len(all_kinematic_features) // trials_per_subject\n",
        "groups = np.repeat(range(num_subjects), trials_per_subject)\n",
        "\n",
        "# Initialize GroupKFold\n",
        "group_kfold = GroupKFold(n_splits=num_subjects)\n",
        "\n",
        "# Initialize a list to store results for each fold\n",
        "results = []\n",
        "\n",
        "# Perform GroupKFold cross-validation\n",
        "fold_number = 1\n",
        "for train_index, test_index in group_kfold.split(all_kinematic_features, all_labels, groups):\n",
        "    X_train, X_test = [all_kinematic_features[i] for i in train_index], [all_kinematic_features[i] for i in test_index]\n",
        "    y_train, y_test = [all_labels[i] for i in train_index], [all_labels[i] for i in test_index]\n",
        "\n",
        "    # Convert lists to numpy arrays for scaling and modeling\n",
        "    X_train = np.array(X_train)\n",
        "    X_test = np.array(X_test)\n",
        "    y_train = np.array(y_train)\n",
        "    y_test = np.array(y_test)\n",
        "\n",
        "    # Scale the data\n",
        "    scaler = StandardScaler()\n",
        "    X_train_scaled = scaler.fit_transform(X_train)\n",
        "    X_test_scaled = scaler.transform(X_test)\n",
        "\n",
        "    # Create and train the Random Forest classifier (using the same parameters as before)\n",
        "    model = RandomForestClassifier(bootstrap=True, ccp_alpha=0.0, class_weight=None, criterion='gini',\n",
        "                                                  max_depth=None, max_features='sqrt', max_leaf_nodes=None,\n",
        "                                                  max_samples=None, min_impurity_decrease=0.0, min_samples_leaf=1,\n",
        "                                                  min_samples_split=2, min_weight_fraction_leaf=0.0, monotonic_cst=None,\n",
        "                                                  n_estimators = 100, n_jobs=None, oob_score=False, random_state=None,\n",
        "                                                  verbose=0, warm_start=False)\n",
        "    model.fit(X_train_scaled, y_train)\n",
        "\n",
        "    # Test the accuracy of the model\n",
        "    y_predicted = model.predict(X_test_scaled)\n",
        "    accuracy = accuracy_score(y_test, y_predicted)\n",
        "\n",
        "    # Determine which subject was in the test set for this fold\n",
        "    # The group for the first element in the test index is the subject number (0-indexed)\n",
        "    test_subject_index = groups[test_index[0]]\n",
        "    test_subject_number = test_subject_index + 1 # Convert to 1-indexed subject number\n",
        "\n",
        "    results.append({\n",
        "        'Fold': fold_number,\n",
        "        'Test Subject': f'Subject {test_subject_number}',\n",
        "        'Accuracy': accuracy\n",
        "    })\n",
        "\n",
        "    fold_number += 1\n",
        "\n",
        "# Display results in a pandas DataFrame\n",
        "results_df = pd.DataFrame(results)\n",
        "print(\"\\nGroupKFold Cross-Validation Results (Leave-One-Subject-Out):\")\n",
        "results_df"
      ],
      "metadata": {
        "colab": {
          "base_uri": "https://localhost:8080/",
          "height": 1650
        },
        "id": "PnodNw2fkz3t",
        "outputId": "eb3c17cc-5d18-4693-98ae-ed7124fe86f9"
      },
      "execution_count": 112,
      "outputs": [
        {
          "output_type": "stream",
          "name": "stderr",
          "text": [
            "/usr/local/lib/python3.11/dist-packages/sklearn/base.py:1389: DataConversionWarning: A column-vector y was passed when a 1d array was expected. Please change the shape of y to (n_samples,), for example using ravel().\n",
            "  return fit_method(estimator, *args, **kwargs)\n",
            "/usr/local/lib/python3.11/dist-packages/sklearn/base.py:1389: DataConversionWarning: A column-vector y was passed when a 1d array was expected. Please change the shape of y to (n_samples,), for example using ravel().\n",
            "  return fit_method(estimator, *args, **kwargs)\n",
            "/usr/local/lib/python3.11/dist-packages/sklearn/base.py:1389: DataConversionWarning: A column-vector y was passed when a 1d array was expected. Please change the shape of y to (n_samples,), for example using ravel().\n",
            "  return fit_method(estimator, *args, **kwargs)\n",
            "/usr/local/lib/python3.11/dist-packages/sklearn/base.py:1389: DataConversionWarning: A column-vector y was passed when a 1d array was expected. Please change the shape of y to (n_samples,), for example using ravel().\n",
            "  return fit_method(estimator, *args, **kwargs)\n",
            "/usr/local/lib/python3.11/dist-packages/sklearn/base.py:1389: DataConversionWarning: A column-vector y was passed when a 1d array was expected. Please change the shape of y to (n_samples,), for example using ravel().\n",
            "  return fit_method(estimator, *args, **kwargs)\n",
            "/usr/local/lib/python3.11/dist-packages/sklearn/base.py:1389: DataConversionWarning: A column-vector y was passed when a 1d array was expected. Please change the shape of y to (n_samples,), for example using ravel().\n",
            "  return fit_method(estimator, *args, **kwargs)\n",
            "/usr/local/lib/python3.11/dist-packages/sklearn/base.py:1389: DataConversionWarning: A column-vector y was passed when a 1d array was expected. Please change the shape of y to (n_samples,), for example using ravel().\n",
            "  return fit_method(estimator, *args, **kwargs)\n",
            "/usr/local/lib/python3.11/dist-packages/sklearn/base.py:1389: DataConversionWarning: A column-vector y was passed when a 1d array was expected. Please change the shape of y to (n_samples,), for example using ravel().\n",
            "  return fit_method(estimator, *args, **kwargs)\n",
            "/usr/local/lib/python3.11/dist-packages/sklearn/base.py:1389: DataConversionWarning: A column-vector y was passed when a 1d array was expected. Please change the shape of y to (n_samples,), for example using ravel().\n",
            "  return fit_method(estimator, *args, **kwargs)\n",
            "/usr/local/lib/python3.11/dist-packages/sklearn/base.py:1389: DataConversionWarning: A column-vector y was passed when a 1d array was expected. Please change the shape of y to (n_samples,), for example using ravel().\n",
            "  return fit_method(estimator, *args, **kwargs)\n",
            "/usr/local/lib/python3.11/dist-packages/sklearn/base.py:1389: DataConversionWarning: A column-vector y was passed when a 1d array was expected. Please change the shape of y to (n_samples,), for example using ravel().\n",
            "  return fit_method(estimator, *args, **kwargs)\n",
            "/usr/local/lib/python3.11/dist-packages/sklearn/base.py:1389: DataConversionWarning: A column-vector y was passed when a 1d array was expected. Please change the shape of y to (n_samples,), for example using ravel().\n",
            "  return fit_method(estimator, *args, **kwargs)\n",
            "/usr/local/lib/python3.11/dist-packages/sklearn/base.py:1389: DataConversionWarning: A column-vector y was passed when a 1d array was expected. Please change the shape of y to (n_samples,), for example using ravel().\n",
            "  return fit_method(estimator, *args, **kwargs)\n",
            "/usr/local/lib/python3.11/dist-packages/sklearn/base.py:1389: DataConversionWarning: A column-vector y was passed when a 1d array was expected. Please change the shape of y to (n_samples,), for example using ravel().\n",
            "  return fit_method(estimator, *args, **kwargs)\n",
            "/usr/local/lib/python3.11/dist-packages/sklearn/base.py:1389: DataConversionWarning: A column-vector y was passed when a 1d array was expected. Please change the shape of y to (n_samples,), for example using ravel().\n",
            "  return fit_method(estimator, *args, **kwargs)\n",
            "/usr/local/lib/python3.11/dist-packages/sklearn/base.py:1389: DataConversionWarning: A column-vector y was passed when a 1d array was expected. Please change the shape of y to (n_samples,), for example using ravel().\n",
            "  return fit_method(estimator, *args, **kwargs)\n",
            "/usr/local/lib/python3.11/dist-packages/sklearn/base.py:1389: DataConversionWarning: A column-vector y was passed when a 1d array was expected. Please change the shape of y to (n_samples,), for example using ravel().\n",
            "  return fit_method(estimator, *args, **kwargs)\n",
            "/usr/local/lib/python3.11/dist-packages/sklearn/base.py:1389: DataConversionWarning: A column-vector y was passed when a 1d array was expected. Please change the shape of y to (n_samples,), for example using ravel().\n",
            "  return fit_method(estimator, *args, **kwargs)\n",
            "/usr/local/lib/python3.11/dist-packages/sklearn/base.py:1389: DataConversionWarning: A column-vector y was passed when a 1d array was expected. Please change the shape of y to (n_samples,), for example using ravel().\n",
            "  return fit_method(estimator, *args, **kwargs)\n",
            "/usr/local/lib/python3.11/dist-packages/sklearn/base.py:1389: DataConversionWarning: A column-vector y was passed when a 1d array was expected. Please change the shape of y to (n_samples,), for example using ravel().\n",
            "  return fit_method(estimator, *args, **kwargs)\n",
            "/usr/local/lib/python3.11/dist-packages/sklearn/base.py:1389: DataConversionWarning: A column-vector y was passed when a 1d array was expected. Please change the shape of y to (n_samples,), for example using ravel().\n",
            "  return fit_method(estimator, *args, **kwargs)\n",
            "/usr/local/lib/python3.11/dist-packages/sklearn/base.py:1389: DataConversionWarning: A column-vector y was passed when a 1d array was expected. Please change the shape of y to (n_samples,), for example using ravel().\n",
            "  return fit_method(estimator, *args, **kwargs)\n",
            "/usr/local/lib/python3.11/dist-packages/sklearn/base.py:1389: DataConversionWarning: A column-vector y was passed when a 1d array was expected. Please change the shape of y to (n_samples,), for example using ravel().\n",
            "  return fit_method(estimator, *args, **kwargs)\n",
            "/usr/local/lib/python3.11/dist-packages/sklearn/base.py:1389: DataConversionWarning: A column-vector y was passed when a 1d array was expected. Please change the shape of y to (n_samples,), for example using ravel().\n",
            "  return fit_method(estimator, *args, **kwargs)\n",
            "/usr/local/lib/python3.11/dist-packages/sklearn/base.py:1389: DataConversionWarning: A column-vector y was passed when a 1d array was expected. Please change the shape of y to (n_samples,), for example using ravel().\n",
            "  return fit_method(estimator, *args, **kwargs)\n",
            "/usr/local/lib/python3.11/dist-packages/sklearn/base.py:1389: DataConversionWarning: A column-vector y was passed when a 1d array was expected. Please change the shape of y to (n_samples,), for example using ravel().\n",
            "  return fit_method(estimator, *args, **kwargs)\n"
          ]
        },
        {
          "output_type": "stream",
          "name": "stdout",
          "text": [
            "\n",
            "GroupKFold Cross-Validation Results (Leave-One-Subject-Out):\n"
          ]
        },
        {
          "output_type": "execute_result",
          "data": {
            "text/plain": [
              "    Fold Test Subject  Accuracy\n",
              "0      1   Subject 26  0.595652\n",
              "1      2   Subject 25  0.847826\n",
              "2      3   Subject 24  0.817391\n",
              "3      4   Subject 23  0.673913\n",
              "4      5   Subject 22  0.821739\n",
              "5      6   Subject 21  0.826087\n",
              "6      7   Subject 20  0.826087\n",
              "7      8   Subject 19  0.865217\n",
              "8      9   Subject 18  0.808696\n",
              "9     10   Subject 17  0.756522\n",
              "10    11   Subject 16  0.821739\n",
              "11    12   Subject 15  0.760870\n",
              "12    13   Subject 14  0.856522\n",
              "13    14   Subject 13  0.626087\n",
              "14    15   Subject 12  0.786957\n",
              "15    16   Subject 11  0.813043\n",
              "16    17   Subject 10  0.730435\n",
              "17    18    Subject 9  0.765217\n",
              "18    19    Subject 8  0.786957\n",
              "19    20    Subject 7  0.786957\n",
              "20    21    Subject 6  0.756522\n",
              "21    22    Subject 5  0.695652\n",
              "22    23    Subject 4  0.608696\n",
              "23    24    Subject 3  0.782609\n",
              "24    25    Subject 2  0.747826\n",
              "25    26    Subject 1  0.795652"
            ],
            "text/html": [
              "\n",
              "  <div id=\"df-fe509f9d-d983-44ee-9e31-ea3a7f6af8b6\" class=\"colab-df-container\">\n",
              "    <div>\n",
              "<style scoped>\n",
              "    .dataframe tbody tr th:only-of-type {\n",
              "        vertical-align: middle;\n",
              "    }\n",
              "\n",
              "    .dataframe tbody tr th {\n",
              "        vertical-align: top;\n",
              "    }\n",
              "\n",
              "    .dataframe thead th {\n",
              "        text-align: right;\n",
              "    }\n",
              "</style>\n",
              "<table border=\"1\" class=\"dataframe\">\n",
              "  <thead>\n",
              "    <tr style=\"text-align: right;\">\n",
              "      <th></th>\n",
              "      <th>Fold</th>\n",
              "      <th>Test Subject</th>\n",
              "      <th>Accuracy</th>\n",
              "    </tr>\n",
              "  </thead>\n",
              "  <tbody>\n",
              "    <tr>\n",
              "      <th>0</th>\n",
              "      <td>1</td>\n",
              "      <td>Subject 26</td>\n",
              "      <td>0.595652</td>\n",
              "    </tr>\n",
              "    <tr>\n",
              "      <th>1</th>\n",
              "      <td>2</td>\n",
              "      <td>Subject 25</td>\n",
              "      <td>0.847826</td>\n",
              "    </tr>\n",
              "    <tr>\n",
              "      <th>2</th>\n",
              "      <td>3</td>\n",
              "      <td>Subject 24</td>\n",
              "      <td>0.817391</td>\n",
              "    </tr>\n",
              "    <tr>\n",
              "      <th>3</th>\n",
              "      <td>4</td>\n",
              "      <td>Subject 23</td>\n",
              "      <td>0.673913</td>\n",
              "    </tr>\n",
              "    <tr>\n",
              "      <th>4</th>\n",
              "      <td>5</td>\n",
              "      <td>Subject 22</td>\n",
              "      <td>0.821739</td>\n",
              "    </tr>\n",
              "    <tr>\n",
              "      <th>5</th>\n",
              "      <td>6</td>\n",
              "      <td>Subject 21</td>\n",
              "      <td>0.826087</td>\n",
              "    </tr>\n",
              "    <tr>\n",
              "      <th>6</th>\n",
              "      <td>7</td>\n",
              "      <td>Subject 20</td>\n",
              "      <td>0.826087</td>\n",
              "    </tr>\n",
              "    <tr>\n",
              "      <th>7</th>\n",
              "      <td>8</td>\n",
              "      <td>Subject 19</td>\n",
              "      <td>0.865217</td>\n",
              "    </tr>\n",
              "    <tr>\n",
              "      <th>8</th>\n",
              "      <td>9</td>\n",
              "      <td>Subject 18</td>\n",
              "      <td>0.808696</td>\n",
              "    </tr>\n",
              "    <tr>\n",
              "      <th>9</th>\n",
              "      <td>10</td>\n",
              "      <td>Subject 17</td>\n",
              "      <td>0.756522</td>\n",
              "    </tr>\n",
              "    <tr>\n",
              "      <th>10</th>\n",
              "      <td>11</td>\n",
              "      <td>Subject 16</td>\n",
              "      <td>0.821739</td>\n",
              "    </tr>\n",
              "    <tr>\n",
              "      <th>11</th>\n",
              "      <td>12</td>\n",
              "      <td>Subject 15</td>\n",
              "      <td>0.760870</td>\n",
              "    </tr>\n",
              "    <tr>\n",
              "      <th>12</th>\n",
              "      <td>13</td>\n",
              "      <td>Subject 14</td>\n",
              "      <td>0.856522</td>\n",
              "    </tr>\n",
              "    <tr>\n",
              "      <th>13</th>\n",
              "      <td>14</td>\n",
              "      <td>Subject 13</td>\n",
              "      <td>0.626087</td>\n",
              "    </tr>\n",
              "    <tr>\n",
              "      <th>14</th>\n",
              "      <td>15</td>\n",
              "      <td>Subject 12</td>\n",
              "      <td>0.786957</td>\n",
              "    </tr>\n",
              "    <tr>\n",
              "      <th>15</th>\n",
              "      <td>16</td>\n",
              "      <td>Subject 11</td>\n",
              "      <td>0.813043</td>\n",
              "    </tr>\n",
              "    <tr>\n",
              "      <th>16</th>\n",
              "      <td>17</td>\n",
              "      <td>Subject 10</td>\n",
              "      <td>0.730435</td>\n",
              "    </tr>\n",
              "    <tr>\n",
              "      <th>17</th>\n",
              "      <td>18</td>\n",
              "      <td>Subject 9</td>\n",
              "      <td>0.765217</td>\n",
              "    </tr>\n",
              "    <tr>\n",
              "      <th>18</th>\n",
              "      <td>19</td>\n",
              "      <td>Subject 8</td>\n",
              "      <td>0.786957</td>\n",
              "    </tr>\n",
              "    <tr>\n",
              "      <th>19</th>\n",
              "      <td>20</td>\n",
              "      <td>Subject 7</td>\n",
              "      <td>0.786957</td>\n",
              "    </tr>\n",
              "    <tr>\n",
              "      <th>20</th>\n",
              "      <td>21</td>\n",
              "      <td>Subject 6</td>\n",
              "      <td>0.756522</td>\n",
              "    </tr>\n",
              "    <tr>\n",
              "      <th>21</th>\n",
              "      <td>22</td>\n",
              "      <td>Subject 5</td>\n",
              "      <td>0.695652</td>\n",
              "    </tr>\n",
              "    <tr>\n",
              "      <th>22</th>\n",
              "      <td>23</td>\n",
              "      <td>Subject 4</td>\n",
              "      <td>0.608696</td>\n",
              "    </tr>\n",
              "    <tr>\n",
              "      <th>23</th>\n",
              "      <td>24</td>\n",
              "      <td>Subject 3</td>\n",
              "      <td>0.782609</td>\n",
              "    </tr>\n",
              "    <tr>\n",
              "      <th>24</th>\n",
              "      <td>25</td>\n",
              "      <td>Subject 2</td>\n",
              "      <td>0.747826</td>\n",
              "    </tr>\n",
              "    <tr>\n",
              "      <th>25</th>\n",
              "      <td>26</td>\n",
              "      <td>Subject 1</td>\n",
              "      <td>0.795652</td>\n",
              "    </tr>\n",
              "  </tbody>\n",
              "</table>\n",
              "</div>\n",
              "    <div class=\"colab-df-buttons\">\n",
              "\n",
              "  <div class=\"colab-df-container\">\n",
              "    <button class=\"colab-df-convert\" onclick=\"convertToInteractive('df-fe509f9d-d983-44ee-9e31-ea3a7f6af8b6')\"\n",
              "            title=\"Convert this dataframe to an interactive table.\"\n",
              "            style=\"display:none;\">\n",
              "\n",
              "  <svg xmlns=\"http://www.w3.org/2000/svg\" height=\"24px\" viewBox=\"0 -960 960 960\">\n",
              "    <path d=\"M120-120v-720h720v720H120Zm60-500h600v-160H180v160Zm220 220h160v-160H400v160Zm0 220h160v-160H400v160ZM180-400h160v-160H180v160Zm440 0h160v-160H620v160ZM180-180h160v-160H180v160Zm440 0h160v-160H620v160Z\"/>\n",
              "  </svg>\n",
              "    </button>\n",
              "\n",
              "  <style>\n",
              "    .colab-df-container {\n",
              "      display:flex;\n",
              "      gap: 12px;\n",
              "    }\n",
              "\n",
              "    .colab-df-convert {\n",
              "      background-color: #E8F0FE;\n",
              "      border: none;\n",
              "      border-radius: 50%;\n",
              "      cursor: pointer;\n",
              "      display: none;\n",
              "      fill: #1967D2;\n",
              "      height: 32px;\n",
              "      padding: 0 0 0 0;\n",
              "      width: 32px;\n",
              "    }\n",
              "\n",
              "    .colab-df-convert:hover {\n",
              "      background-color: #E2EBFA;\n",
              "      box-shadow: 0px 1px 2px rgba(60, 64, 67, 0.3), 0px 1px 3px 1px rgba(60, 64, 67, 0.15);\n",
              "      fill: #174EA6;\n",
              "    }\n",
              "\n",
              "    .colab-df-buttons div {\n",
              "      margin-bottom: 4px;\n",
              "    }\n",
              "\n",
              "    [theme=dark] .colab-df-convert {\n",
              "      background-color: #3B4455;\n",
              "      fill: #D2E3FC;\n",
              "    }\n",
              "\n",
              "    [theme=dark] .colab-df-convert:hover {\n",
              "      background-color: #434B5C;\n",
              "      box-shadow: 0px 1px 3px 1px rgba(0, 0, 0, 0.15);\n",
              "      filter: drop-shadow(0px 1px 2px rgba(0, 0, 0, 0.3));\n",
              "      fill: #FFFFFF;\n",
              "    }\n",
              "  </style>\n",
              "\n",
              "    <script>\n",
              "      const buttonEl =\n",
              "        document.querySelector('#df-fe509f9d-d983-44ee-9e31-ea3a7f6af8b6 button.colab-df-convert');\n",
              "      buttonEl.style.display =\n",
              "        google.colab.kernel.accessAllowed ? 'block' : 'none';\n",
              "\n",
              "      async function convertToInteractive(key) {\n",
              "        const element = document.querySelector('#df-fe509f9d-d983-44ee-9e31-ea3a7f6af8b6');\n",
              "        const dataTable =\n",
              "          await google.colab.kernel.invokeFunction('convertToInteractive',\n",
              "                                                    [key], {});\n",
              "        if (!dataTable) return;\n",
              "\n",
              "        const docLinkHtml = 'Like what you see? Visit the ' +\n",
              "          '<a target=\"_blank\" href=https://colab.research.google.com/notebooks/data_table.ipynb>data table notebook</a>'\n",
              "          + ' to learn more about interactive tables.';\n",
              "        element.innerHTML = '';\n",
              "        dataTable['output_type'] = 'display_data';\n",
              "        await google.colab.output.renderOutput(dataTable, element);\n",
              "        const docLink = document.createElement('div');\n",
              "        docLink.innerHTML = docLinkHtml;\n",
              "        element.appendChild(docLink);\n",
              "      }\n",
              "    </script>\n",
              "  </div>\n",
              "\n",
              "\n",
              "    <div id=\"df-66b12756-457f-4313-8237-d87b030744ba\">\n",
              "      <button class=\"colab-df-quickchart\" onclick=\"quickchart('df-66b12756-457f-4313-8237-d87b030744ba')\"\n",
              "                title=\"Suggest charts\"\n",
              "                style=\"display:none;\">\n",
              "\n",
              "<svg xmlns=\"http://www.w3.org/2000/svg\" height=\"24px\"viewBox=\"0 0 24 24\"\n",
              "     width=\"24px\">\n",
              "    <g>\n",
              "        <path d=\"M19 3H5c-1.1 0-2 .9-2 2v14c0 1.1.9 2 2 2h14c1.1 0 2-.9 2-2V5c0-1.1-.9-2-2-2zM9 17H7v-7h2v7zm4 0h-2V7h2v10zm4 0h-2v-4h2v4z\"/>\n",
              "    </g>\n",
              "</svg>\n",
              "      </button>\n",
              "\n",
              "<style>\n",
              "  .colab-df-quickchart {\n",
              "      --bg-color: #E8F0FE;\n",
              "      --fill-color: #1967D2;\n",
              "      --hover-bg-color: #E2EBFA;\n",
              "      --hover-fill-color: #174EA6;\n",
              "      --disabled-fill-color: #AAA;\n",
              "      --disabled-bg-color: #DDD;\n",
              "  }\n",
              "\n",
              "  [theme=dark] .colab-df-quickchart {\n",
              "      --bg-color: #3B4455;\n",
              "      --fill-color: #D2E3FC;\n",
              "      --hover-bg-color: #434B5C;\n",
              "      --hover-fill-color: #FFFFFF;\n",
              "      --disabled-bg-color: #3B4455;\n",
              "      --disabled-fill-color: #666;\n",
              "  }\n",
              "\n",
              "  .colab-df-quickchart {\n",
              "    background-color: var(--bg-color);\n",
              "    border: none;\n",
              "    border-radius: 50%;\n",
              "    cursor: pointer;\n",
              "    display: none;\n",
              "    fill: var(--fill-color);\n",
              "    height: 32px;\n",
              "    padding: 0;\n",
              "    width: 32px;\n",
              "  }\n",
              "\n",
              "  .colab-df-quickchart:hover {\n",
              "    background-color: var(--hover-bg-color);\n",
              "    box-shadow: 0 1px 2px rgba(60, 64, 67, 0.3), 0 1px 3px 1px rgba(60, 64, 67, 0.15);\n",
              "    fill: var(--button-hover-fill-color);\n",
              "  }\n",
              "\n",
              "  .colab-df-quickchart-complete:disabled,\n",
              "  .colab-df-quickchart-complete:disabled:hover {\n",
              "    background-color: var(--disabled-bg-color);\n",
              "    fill: var(--disabled-fill-color);\n",
              "    box-shadow: none;\n",
              "  }\n",
              "\n",
              "  .colab-df-spinner {\n",
              "    border: 2px solid var(--fill-color);\n",
              "    border-color: transparent;\n",
              "    border-bottom-color: var(--fill-color);\n",
              "    animation:\n",
              "      spin 1s steps(1) infinite;\n",
              "  }\n",
              "\n",
              "  @keyframes spin {\n",
              "    0% {\n",
              "      border-color: transparent;\n",
              "      border-bottom-color: var(--fill-color);\n",
              "      border-left-color: var(--fill-color);\n",
              "    }\n",
              "    20% {\n",
              "      border-color: transparent;\n",
              "      border-left-color: var(--fill-color);\n",
              "      border-top-color: var(--fill-color);\n",
              "    }\n",
              "    30% {\n",
              "      border-color: transparent;\n",
              "      border-left-color: var(--fill-color);\n",
              "      border-top-color: var(--fill-color);\n",
              "      border-right-color: var(--fill-color);\n",
              "    }\n",
              "    40% {\n",
              "      border-color: transparent;\n",
              "      border-right-color: var(--fill-color);\n",
              "      border-top-color: var(--fill-color);\n",
              "    }\n",
              "    60% {\n",
              "      border-color: transparent;\n",
              "      border-right-color: var(--fill-color);\n",
              "    }\n",
              "    80% {\n",
              "      border-color: transparent;\n",
              "      border-right-color: var(--fill-color);\n",
              "      border-bottom-color: var(--fill-color);\n",
              "    }\n",
              "    90% {\n",
              "      border-color: transparent;\n",
              "      border-bottom-color: var(--fill-color);\n",
              "    }\n",
              "  }\n",
              "</style>\n",
              "\n",
              "      <script>\n",
              "        async function quickchart(key) {\n",
              "          const quickchartButtonEl =\n",
              "            document.querySelector('#' + key + ' button');\n",
              "          quickchartButtonEl.disabled = true;  // To prevent multiple clicks.\n",
              "          quickchartButtonEl.classList.add('colab-df-spinner');\n",
              "          try {\n",
              "            const charts = await google.colab.kernel.invokeFunction(\n",
              "                'suggestCharts', [key], {});\n",
              "          } catch (error) {\n",
              "            console.error('Error during call to suggestCharts:', error);\n",
              "          }\n",
              "          quickchartButtonEl.classList.remove('colab-df-spinner');\n",
              "          quickchartButtonEl.classList.add('colab-df-quickchart-complete');\n",
              "        }\n",
              "        (() => {\n",
              "          let quickchartButtonEl =\n",
              "            document.querySelector('#df-66b12756-457f-4313-8237-d87b030744ba button');\n",
              "          quickchartButtonEl.style.display =\n",
              "            google.colab.kernel.accessAllowed ? 'block' : 'none';\n",
              "        })();\n",
              "      </script>\n",
              "    </div>\n",
              "\n",
              "  <div id=\"id_9dc8313f-d73a-4b57-9e99-356916e5ab6e\">\n",
              "    <style>\n",
              "      .colab-df-generate {\n",
              "        background-color: #E8F0FE;\n",
              "        border: none;\n",
              "        border-radius: 50%;\n",
              "        cursor: pointer;\n",
              "        display: none;\n",
              "        fill: #1967D2;\n",
              "        height: 32px;\n",
              "        padding: 0 0 0 0;\n",
              "        width: 32px;\n",
              "      }\n",
              "\n",
              "      .colab-df-generate:hover {\n",
              "        background-color: #E2EBFA;\n",
              "        box-shadow: 0px 1px 2px rgba(60, 64, 67, 0.3), 0px 1px 3px 1px rgba(60, 64, 67, 0.15);\n",
              "        fill: #174EA6;\n",
              "      }\n",
              "\n",
              "      [theme=dark] .colab-df-generate {\n",
              "        background-color: #3B4455;\n",
              "        fill: #D2E3FC;\n",
              "      }\n",
              "\n",
              "      [theme=dark] .colab-df-generate:hover {\n",
              "        background-color: #434B5C;\n",
              "        box-shadow: 0px 1px 3px 1px rgba(0, 0, 0, 0.15);\n",
              "        filter: drop-shadow(0px 1px 2px rgba(0, 0, 0, 0.3));\n",
              "        fill: #FFFFFF;\n",
              "      }\n",
              "    </style>\n",
              "    <button class=\"colab-df-generate\" onclick=\"generateWithVariable('results_df')\"\n",
              "            title=\"Generate code using this dataframe.\"\n",
              "            style=\"display:none;\">\n",
              "\n",
              "  <svg xmlns=\"http://www.w3.org/2000/svg\" height=\"24px\"viewBox=\"0 0 24 24\"\n",
              "       width=\"24px\">\n",
              "    <path d=\"M7,19H8.4L18.45,9,17,7.55,7,17.6ZM5,21V16.75L18.45,3.32a2,2,0,0,1,2.83,0l1.4,1.43a1.91,1.91,0,0,1,.58,1.4,1.91,1.91,0,0,1-.58,1.4L9.25,21ZM18.45,9,17,7.55Zm-12,3A5.31,5.31,0,0,0,4.9,8.1,5.31,5.31,0,0,0,1,6.5,5.31,5.31,0,0,0,4.9,4.9,5.31,5.31,0,0,0,6.5,1,5.31,5.31,0,0,0,8.1,4.9,5.31,5.31,0,0,0,12,6.5,5.46,5.46,0,0,0,6.5,12Z\"/>\n",
              "  </svg>\n",
              "    </button>\n",
              "    <script>\n",
              "      (() => {\n",
              "      const buttonEl =\n",
              "        document.querySelector('#id_9dc8313f-d73a-4b57-9e99-356916e5ab6e button.colab-df-generate');\n",
              "      buttonEl.style.display =\n",
              "        google.colab.kernel.accessAllowed ? 'block' : 'none';\n",
              "\n",
              "      buttonEl.onclick = () => {\n",
              "        google.colab.notebook.generateWithVariable('results_df');\n",
              "      }\n",
              "      })();\n",
              "    </script>\n",
              "  </div>\n",
              "\n",
              "    </div>\n",
              "  </div>\n"
            ],
            "application/vnd.google.colaboratory.intrinsic+json": {
              "type": "dataframe",
              "variable_name": "results_df",
              "summary": "{\n  \"name\": \"results_df\",\n  \"rows\": 26,\n  \"fields\": [\n    {\n      \"column\": \"Fold\",\n      \"properties\": {\n        \"dtype\": \"number\",\n        \"std\": 7,\n        \"min\": 1,\n        \"max\": 26,\n        \"num_unique_values\": 26,\n        \"samples\": [\n          9,\n          17,\n          1\n        ],\n        \"semantic_type\": \"\",\n        \"description\": \"\"\n      }\n    },\n    {\n      \"column\": \"Test Subject\",\n      \"properties\": {\n        \"dtype\": \"string\",\n        \"num_unique_values\": 26,\n        \"samples\": [\n          \"Subject 18\",\n          \"Subject 10\",\n          \"Subject 26\"\n        ],\n        \"semantic_type\": \"\",\n        \"description\": \"\"\n      }\n    },\n    {\n      \"column\": \"Accuracy\",\n      \"properties\": {\n        \"dtype\": \"number\",\n        \"std\": 0.07370480206810674,\n        \"min\": 0.5956521739130435,\n        \"max\": 0.8652173913043478,\n        \"num_unique_values\": 21,\n        \"samples\": [\n          0.5956521739130435,\n          0.6086956521739131,\n          0.7652173913043478\n        ],\n        \"semantic_type\": \"\",\n        \"description\": \"\"\n      }\n    }\n  ]\n}"
            }
          },
          "metadata": {},
          "execution_count": 112
        }
      ]
    },
    {
      "cell_type": "code",
      "source": [
        "# Median subject-by-subject accuracy:\n",
        "median_accuracy = results_df['Accuracy'].median()\n",
        "print(f\"\\nMedian Subject-by-Subject Accuracy: {median_accuracy}\")"
      ],
      "metadata": {
        "colab": {
          "base_uri": "https://localhost:8080/"
        },
        "id": "IVOJ3pueNzd6",
        "outputId": "0fce4977-6e4a-4992-8778-fc8dc607b036"
      },
      "execution_count": 119,
      "outputs": [
        {
          "output_type": "stream",
          "name": "stdout",
          "text": [
            "\n",
            "Median Subject-by-Subject Accuracy: 0.7869565217391304\n"
          ]
        }
      ]
    },
    {
      "cell_type": "code",
      "source": [
        "subject_info = {\n",
        "    1: [\"Right\", \"Male\", 31, 170, 75],\n",
        "    2: [\"Right\", \"Male\", 27, 170, 62],\n",
        "    3: [\"Right\", \"Male\", 22, 180, 85],\n",
        "    4: [\"Right\", \"Male\", 27, 183, 95],\n",
        "    5: [\"Right\", \"Male\", 27, 178, 75],\n",
        "    6: [\"Right\", \"Female\", 22, 163, 48],\n",
        "    7: [\"Right\", \"Male\", 28, 170, 60],\n",
        "    8: [\"Right\", \"Female\", 27, 164, 54],\n",
        "    9: [\"Right\", \"Male\", 23, 173, 63],\n",
        "    10: [\"Right\", \"Female\", 30, 160, 60],\n",
        "    11: [\"Right\", \"Male\", 28, 170, 67],\n",
        "    12: [\"Right\", \"Male\", 25, 185, 80],\n",
        "    13: [\"Right\", \"Male\", 27, 184, 85],\n",
        "    14: [\"Left\", \"Female\", 29, 155, 54],\n",
        "    15: [\"Right\", \"Female\", 26, 162, 60],\n",
        "    16: [\"Left\", \"Male\", 29, 167, 67],\n",
        "    17: [\"Right\", \"Male\", 30, 175, 76],\n",
        "    18: [\"Right\", \"Male\", 29, 178, 68],\n",
        "    19: [\"Right\", \"Male\", 34, 173, 82],\n",
        "    20: [\"Right\", \"Female\", 26, 165, 54],\n",
        "    21: [\"Right\", \"Male\", 38, 178, 73],\n",
        "    22: [\"Right\", \"Female\", 35, 168, 65],\n",
        "    23: [\"Right\", \"Male\", 30, 180, 65],\n",
        "    24: [\"Right\", \"Male\", 26, 180, 65],\n",
        "    25: [\"Right\", \"Male\", 28, 180, 70],\n",
        "    26: [\"Right\", \"Male\", 40, 179, 66],\n",
        "}"
      ],
      "metadata": {
        "id": "q6SJResRqqv6"
      },
      "execution_count": 114,
      "outputs": []
    },
    {
      "cell_type": "code",
      "source": [
        "# Based on the subject info and group k fold analysis, determine and clearly display any trends in accuracy based on handedness, gender, age, height, and weight.\n",
        "\n",
        "# Augment results_df with subject information\n",
        "results_df['Handedness'] = results_df['Test Subject'].apply(lambda x: subject_info[int(x.split(' ')[1])][0])\n",
        "results_df['Gender'] = results_df['Test Subject'].apply(lambda x: subject_info[int(x.split(' ')[1])][1])\n",
        "results_df['Age'] = results_df['Test Subject'].apply(lambda x: subject_info[int(x.split(' ')[1])][2])\n",
        "results_df['Height'] = results_df['Test Subject'].apply(lambda x: subject_info[int(x.split(' ')[1])][3])\n",
        "results_df['Weight'] = results_df['Test Subject'].apply(lambda x: subject_info[int(x.split(' ')[1])][4])\n",
        "\n",
        "# Handedness\n",
        "print(\"\\nAccuracy by Handedness:\")\n",
        "handedness_trend = results_df.groupby('Handedness')['Accuracy'].mean().reset_index()\n",
        "print(handedness_trend)\n",
        "\n",
        "# Gender\n",
        "print(\"\\nAccuracy by Gender:\")\n",
        "gender_trend = results_df.groupby('Gender')['Accuracy'].mean().reset_index()\n",
        "print(gender_trend)\n",
        "\n",
        "# Age (can look at correlation or group into bins)\n",
        "print(\"\\nCorrelation between Accuracy and Age:\")\n",
        "age_corr = results_df['Accuracy'].corr(results_df['Age'])\n",
        "print(f\"Correlation Coefficient: {age_corr:.4f}\")\n",
        "# Group age into bins for clearer trend visualization\n",
        "results_df['Age_Group'] = pd.cut(results_df['Age'], bins=[20, 30, 40, 50], right=False, labels=['20-29', '30-39', '40+'])\n",
        "print(\"\\nAccuracy by Age Group:\")\n",
        "age_group_trend = results_df.groupby('Age_Group')['Accuracy'].mean().reset_index()\n",
        "print(age_group_trend)\n",
        "\n",
        "# Height (can look at correlation or group into bins)\n",
        "print(\"\\nCorrelation between Accuracy and Height:\")\n",
        "height_corr = results_df['Accuracy'].corr(results_df['Height'])\n",
        "print(f\"Correlation Coefficient: {height_corr:.4f}\")\n",
        "#  Group height into bins\n",
        "results_df['Height_Group'] = pd.cut(results_df['Height'], bins=[150, 160, 170, 180, 190], right=False, labels=['150-159', '160-169', '170-179', '180+'])\n",
        "print(\"\\nAccuracy by Height Group:\")\n",
        "height_group_trend = results_df.groupby('Height_Group')['Accuracy'].mean().reset_index()\n",
        "print(height_group_trend)\n",
        "\n",
        "\n",
        "# Weight (can look at correlation or group into bins)\n",
        "print(\"\\nCorrelation between Accuracy and Weight:\")\n",
        "weight_corr = results_df['Accuracy'].corr(results_df['Weight'])\n",
        "print(f\"Correlation Coefficient: {weight_corr:.4f}\")\n",
        "# Group weight into bins\n",
        "results_df['Weight_Group'] = pd.cut(results_df['Weight'], bins=[40, 50, 60, 70, 80, 90, 100], right=False, labels=['40-49', '50-59', '60-69', '70-79', '80-89', '90+'])\n",
        "print(\"\\nAccuracy by Weight Group:\")\n",
        "weight_group_trend = results_df.groupby('Weight_Group')['Accuracy'].mean().reset_index()\n",
        "print(weight_group_trend)"
      ],
      "metadata": {
        "colab": {
          "base_uri": "https://localhost:8080/"
        },
        "id": "c8r6GE6YquYE",
        "outputId": "0017e6c8-7578-4297-d7c9-b0a0492126a7"
      },
      "execution_count": 115,
      "outputs": [
        {
          "output_type": "stream",
          "name": "stdout",
          "text": [
            "\n",
            "Accuracy by Handedness:\n",
            "  Handedness  Accuracy\n",
            "0       Left  0.839130\n",
            "1      Right  0.761775\n",
            "\n",
            "Accuracy by Gender:\n",
            "   Gender  Accuracy\n",
            "0  Female  0.791304\n",
            "1    Male  0.759039\n",
            "\n",
            "Correlation between Accuracy and Age:\n",
            "Correlation Coefficient: -0.0542\n",
            "\n",
            "Accuracy by Age Group:\n",
            "  Age_Group  Accuracy\n",
            "0     20-29  0.771981\n",
            "1     30-39  0.781366\n",
            "2       40+  0.595652\n",
            "\n",
            "Correlation between Accuracy and Height:\n",
            "Correlation Coefficient: -0.3938\n",
            "\n",
            "Accuracy by Height Group:\n",
            "  Height_Group  Accuracy\n",
            "0      150-159  0.856522\n",
            "1      160-169  0.786335\n",
            "2      170-179  0.768775\n",
            "3         180+  0.734783\n",
            "\n",
            "Correlation between Accuracy and Weight:\n",
            "Correlation Coefficient: -0.3094\n",
            "\n",
            "Accuracy by Weight Group:\n",
            "  Weight_Group  Accuracy\n",
            "0        40-49  0.756522\n",
            "1        50-59  0.823188\n",
            "2        60-69  0.761957\n",
            "3        70-79  0.784348\n",
            "4        80-89  0.765217\n",
            "5          90+  0.608696\n"
          ]
        },
        {
          "output_type": "stream",
          "name": "stderr",
          "text": [
            "/tmp/ipython-input-115-2759035228.py:27: FutureWarning: The default of observed=False is deprecated and will be changed to True in a future version of pandas. Pass observed=False to retain current behavior or observed=True to adopt the future default and silence this warning.\n",
            "  age_group_trend = results_df.groupby('Age_Group')['Accuracy'].mean().reset_index()\n",
            "/tmp/ipython-input-115-2759035228.py:37: FutureWarning: The default of observed=False is deprecated and will be changed to True in a future version of pandas. Pass observed=False to retain current behavior or observed=True to adopt the future default and silence this warning.\n",
            "  height_group_trend = results_df.groupby('Height_Group')['Accuracy'].mean().reset_index()\n",
            "/tmp/ipython-input-115-2759035228.py:48: FutureWarning: The default of observed=False is deprecated and will be changed to True in a future version of pandas. Pass observed=False to retain current behavior or observed=True to adopt the future default and silence this warning.\n",
            "  weight_group_trend = results_df.groupby('Weight_Group')['Accuracy'].mean().reset_index()\n"
          ]
        }
      ]
    },
    {
      "cell_type": "markdown",
      "source": [
        "Again, applying PCA to the kinematic data decreased the overall accuracy of the model."
      ],
      "metadata": {
        "id": "PdoRdXZ3kGNN"
      }
    },
    {
      "cell_type": "code",
      "source": [
        "# Apply PCA in the same exact way as the smaller model, then evaluate performance\n",
        "\n",
        "# Apply PCA to the full dataset\n",
        "pca_full = PCA(n_components=130) # Using the same number of components as the smaller model example\n",
        "x_train_scaled_pca = pca_full.fit_transform(x_train_scaled)\n",
        "x_test_scaled_pca = pca_full.transform(x_test_scaled)\n",
        "\n",
        "print(f\"Number of features before PCA (Full Dataset): {x_train_scaled.shape[1]}\")\n",
        "print(f\"Number of features after PCA (Full Dataset): {x_train_scaled_pca.shape[1]}\")\n",
        "\n",
        "# Train a new Random Forest model with PCA-transformed full dataset\n",
        "full_random_forest_model_pca = RandomForestClassifier(bootstrap=True, ccp_alpha=0.0, class_weight=None, criterion='gini',\n",
        "                                                  max_depth=None, max_features='sqrt', max_leaf_nodes=None,\n",
        "                                                  max_samples=None, min_impurity_decrease=0.0, min_samples_leaf=1,\n",
        "                                                  min_samples_split=2, min_weight_fraction_leaf=0.0, monotonic_cst=None,\n",
        "                                                  n_estimators = 100, n_jobs=None, oob_score=False, random_state=None,\n",
        "                                                  verbose=0, warm_start=False) # Using the same parameters as the original full model\n",
        "full_random_forest_model_pca.fit(x_train_scaled_pca, y_train)\n",
        "\n",
        "# Evaluate the accuracy of the PCA-based full model\n",
        "y_predicted_pca_full = full_random_forest_model_pca.predict(x_test_scaled_pca)\n",
        "accuracy_pca_full = accuracy_score(y_test, y_predicted_pca_full)\n",
        "\n",
        "print(f'Random Forest Accuracy with PCA (Full Dataset): {accuracy_pca_full}')\n",
        "print(f'Difference in accuracy (Full Dataset): {accuracy_pca_full - accuracy}')\n",
        "\n",
        "# Visualize the confusion matrix for the PCA-based full model\n",
        "sns.heatmap(confusion_matrix(y_test, y_predicted_pca_full), annot=True, cmap='Blues', cbar=False)\n",
        "plt.xlabel('Predicted Grasps')\n",
        "plt.ylabel('Actual Grasps')\n",
        "plt.title('Ninapro DB1: Random Forest with PCA Confusion Matrix')\n",
        "plt.show()"
      ],
      "metadata": {
        "colab": {
          "base_uri": "https://localhost:8080/",
          "height": 596
        },
        "id": "s9XCbz2SQsGi",
        "outputId": "a75754d4-d112-42df-e4a1-832660e45770"
      },
      "execution_count": 117,
      "outputs": [
        {
          "output_type": "stream",
          "name": "stdout",
          "text": [
            "Number of features before PCA (Full Dataset): 154\n",
            "Number of features after PCA (Full Dataset): 130\n"
          ]
        },
        {
          "output_type": "stream",
          "name": "stderr",
          "text": [
            "/usr/local/lib/python3.11/dist-packages/sklearn/base.py:1389: DataConversionWarning: A column-vector y was passed when a 1d array was expected. Please change the shape of y to (n_samples,), for example using ravel().\n",
            "  return fit_method(estimator, *args, **kwargs)\n"
          ]
        },
        {
          "output_type": "stream",
          "name": "stdout",
          "text": [
            "Random Forest Accuracy with PCA (Full Dataset): 0.04782608695652174\n",
            "Difference in accuracy (Full Dataset): -0.7478260869565216\n"
          ]
        },
        {
          "output_type": "display_data",
          "data": {
            "text/plain": [
              "<Figure size 640x480 with 1 Axes>"
            ],
            "image/png": "[encoded data removed]"
          },
          "metadata": {}
        }
      ]
    }
  ]
}