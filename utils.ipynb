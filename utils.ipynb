{
  "nbformat": 4,
  "nbformat_minor": 0,
  "metadata": {
    "colab": {
      "provenance": [],
      "authorship_tag": "ABX9TyMAcfyATu4Ddw7ILch+GQd2"
    },
    "kernelspec": {
      "name": "python3",
      "display_name": "Python 3"
    },
    "language_info": {
      "name": "python"
    }
  },
  "cells": [
    {
      "cell_type": "markdown",
      "source": [
        "Overview: This script contains all functions used by both the kinematic and EMG scripts, and is used as an import. After editing, download this file as a .py\n",
        "and upload it to the Our Grasp Project > Data > Our Model folder under the name\n",
        "'utils_babyscript.ipynb'. Run the utils import in your desired file to update\n",
        "the import and see your changes."
      ],
      "metadata": {
        "id": "l5p2_NdSZJo2"
      }
    },
    {
      "cell_type": "markdown",
      "source": [
        "# Mounts and Imports"
      ],
      "metadata": {
        "id": "ZqheVm-RnD0P"
      }
    },
    {
      "cell_type": "code",
      "source": [
        "# Mounting Google Drive\n",
        "from google.colab import drive, output\n",
        "drive.mount('/content/drive')"
      ],
      "metadata": {
        "colab": {
          "base_uri": "https://localhost:8080/"
        },
        "id": "uRZTwDxmZsGL",
        "outputId": "88b849ca-75c6-4474-bd7a-6b52eacd84f3"
      },
      "execution_count": null,
      "outputs": [
        {
          "output_type": "stream",
          "name": "stdout",
          "text": [
            "Mounted at /content/drive\n"
          ]
        }
      ]
    },
    {
      "cell_type": "code",
      "source": [
        "# Main Imports\n",
        "import scipy.io as sio\n",
        "import scipy.signal\n",
        "import pandas as pd\n",
        "import numpy as np\n",
        "import matplotlib.pyplot as plt\n",
        "import seaborn as sns           # Used to create confusion heatmaps\n",
        "import os                       # Used to convert between dataframe and csv\n",
        "import pywt                     # Used to perform wavelet transform\n",
        "\n",
        "import random\n",
        "import copy\n",
        "\n",
        "# Classifier imports\n",
        "from sklearn import model_selection\n",
        "from sklearn.ensemble import RandomForestClassifier\n",
        "from sklearn.neighbors import KNeighborsClassifier\n",
        "from sklearn.svm import SVC\n",
        "from sklearn.preprocessing import StandardScaler\n",
        "from sklearn.metrics import accuracy_score, confusion_matrix"
      ],
      "metadata": {
        "id": "PH7PZ3OaZyiI"
      },
      "execution_count": null,
      "outputs": []
    },
    {
      "cell_type": "markdown",
      "source": [
        "# Functions"
      ],
      "metadata": {
        "id": "yYW2upBfnTAR"
      }
    },
    {
      "cell_type": "markdown",
      "source": [
        "Note: The \"labels\" dictionary maps the index (int) of every hand grasp tested in Ninapro DB1 to its respective name (str)."
      ],
      "metadata": {
        "id": "SeVxG7MlnVkw"
      }
    },
    {
      "cell_type": "code",
      "source": [
        "labels = {1: 'Large Diameter Grasp', 2: 'Small Diameter Grasp (power grip)',\n",
        "          3: 'Fixed Hook Grasp', 4: 'Index Finger Extension Grasp', 5:\n",
        "          'Medium Wrap', 6: 'Ring Grasp', 7: 'Prismatic Four Fingers Grasp',\n",
        "          8: 'Stick Grasp', 9: 'Writing Tripod Grasp', 10: 'Power Sphere Grasp',\n",
        "          11: 'Three Finger Sphere Grasp', 12: 'Precision Sphere Grasp', 13:\n",
        "          'Tripod Grasp', 14: 'Prismatic Pinch Grasp', 15: 'Tip Pinch Grasp',\n",
        "          16: 'Quadpod Grasp', 17: 'Lateral Grasp', 18: 'Parallel Extension Grasp',\n",
        "          19: 'Extension Type Grasp', 20: 'Power Disk Grasp', 21: 'Open a Bottle with a Tripod Grasp',\n",
        "          22: 'Turn a Screw', 23: 'Cut Something'}"
      ],
      "metadata": {
        "id": "V5JX2asGlI1m"
      },
      "execution_count": null,
      "outputs": []
    },
    {
      "cell_type": "code",
      "execution_count": null,
      "metadata": {
        "id": "xPqYqMoHP3rN"
      },
      "outputs": [],
      "source": [
        "'''\n",
        "process_ninapro_subject(file_path)\n",
        "\n",
        "Purpose: Convert the Ninapro DB1 file for one subject, which is in MATLAB\n",
        "format, to a Pandas dataframe. Organize the dataframes by adding headers\n",
        "and a time column.\n",
        "Parameters: The path to the MATLAB file (str), sampling rate of the data (int).\n",
        "Output: Pandas dataframe for kinematic data, and a dataframe for EMG data.\n",
        "'''\n",
        "def process_ninapro_subject(file_path, sampling_rate):\n",
        "  # Extract data\n",
        "  subject_kin_data = sio.loadmat(file_path)['glove']\n",
        "  subject_emg_data = sio.loadmat(file_path)['emg']\n",
        "\n",
        "  # Creates Pandas Dataframe\n",
        "  kin_data_df = pd.DataFrame(subject_kin_data)\n",
        "  emg_data_df = pd.DataFrame(subject_emg_data)\n",
        "\n",
        "  # Gets number of rows and columns\n",
        "  kin_rows, kin_cols = kin_data_df.shape\n",
        "  emg_rows, emg_cols = emg_data_df.shape\n",
        "\n",
        "  # Defines names for headers\n",
        "  kin_data_df.columns = ['Angle_' + str(i) for i in range(1, kin_cols + 1)]\n",
        "  emg_data_df.columns = ['EMG_' + str(i) for i in range(1, emg_cols - 1)] + ['EMG_flexor', 'EMG_extensor']\n",
        "\n",
        "  # Create and add a column defining time\n",
        "  time_unit = 1/sampling_rate\n",
        "  time_column = [time_unit * i for i in range(kin_rows)]\n",
        "  kin_data_df.insert(0, 'Time', time_column)\n",
        "  emg_data_df.insert(0, 'Time', time_column)\n",
        "\n",
        "  # Saves Pandas dataframe as csv\n",
        "  suffix_length = len('.mat')\n",
        "  kin_csv_file_path = file_path[:-suffix_length] + '_kinematic.csv'\n",
        "  emg_csv_file_path = file_path[:-suffix_length] + '_emg.csv'\n",
        "  kin_data_df.to_csv(kin_csv_file_path, index = False, header = True)\n",
        "  emg_data_df.to_csv(emg_csv_file_path, index = False, header = True)\n",
        "\n",
        "  return kin_data_df, emg_data_df"
      ]
    },
    {
      "cell_type": "code",
      "source": [
        "'''\n",
        "filter_data(data, sampling_rate, data_type)\n",
        "\n",
        "Purpose: Perform a 6 Hz low-pass butterworth filter on a data signal. If the\n",
        "data is EMG, also rectify.\n",
        "Parameters: Raw signal data (Pandas dataframe), sampling rate (int), type of\n",
        "data (str)\n",
        "Output: Filtered siganl data (Pandas dataframe)\n",
        "\n",
        "Note: The EMG electrodes already provide an amplified (14000x), rectified, and\n",
        "bandpass-filtered (0-25 Hz) version of the raw sEMG signal.\n",
        "'''\n",
        "def filter_data(data, sampling_rate, data_type):\n",
        "    data = data.copy()\n",
        "\n",
        "    if 'Time' in data.columns:\n",
        "        time_data = data['Time']\n",
        "        data = data.drop(columns='Time')\n",
        "    else:\n",
        "        time_data = None\n",
        "\n",
        "    # Apply data-type-specific preprocessing\n",
        "    if data_type == 'emg':\n",
        "        data = data.abs()  # Rectify EMG\n",
        "        low_cutoff = 6\n",
        "    elif data_type == 'kinematics':\n",
        "        low_cutoff = 6\n",
        "    else:\n",
        "        raise ValueError(\"Unsupported data type\")\n",
        "\n",
        "    # Apply low-pass Butterworth filter\n",
        "    nyq = 0.5 * sampling_rate\n",
        "    b, a = scipy.signal.butter(2, low_cutoff / nyq, btype='low')\n",
        "    data = pd.DataFrame(scipy.signal.filtfilt(b, a, data.values, axis=0), columns=data.columns)\n",
        "\n",
        "    if time_data is not None:\n",
        "        data.insert(0, 'Time', time_data)\n",
        "\n",
        "    return data"
      ],
      "metadata": {
        "id": "6CCiB8w4ckVu"
      },
      "execution_count": null,
      "outputs": []
    },
    {
      "cell_type": "code",
      "source": [
        "# Separate kinematic filtering function\n",
        "def filter_kinematic_data(data, sampling_rate):\n",
        "  data_copy = data.copy()\n",
        "\n",
        "  # Keeps time column from being filtered\n",
        "  if 'Time' in data.columns:\n",
        "    time_data = data['Time']\n",
        "    data_copy = data_copy.drop(columns='Time')\n",
        "  else:\n",
        "    time_data = None\n",
        "\n",
        "  # Apply low-pass Butterworth filter\n",
        "  nyq = 0.5 * sampling_rate\n",
        "  low_cutoff = 6\n",
        "  b,a = scipy.signal.butter(2, low_cuttoff / nyq, btype='low')\n",
        "  data_copy = pd.DataFrame(scipy.signal.filtfilt(b, a, data_copy.values, axis=0), columns=data.columns)\n",
        "\n",
        "  # Add back time column\n",
        "  if time_data is not None:\n",
        "    data_copy.insert(0, 'Time', time_data)\n",
        "\n",
        "  return data_copy"
      ],
      "metadata": {
        "id": "BaRre6nGSvJj"
      },
      "execution_count": null,
      "outputs": []
    },
    {
      "cell_type": "code",
      "source": [
        "\n",
        "# Separate EMG filtering function\n",
        "def filter_emg_data(data, sampling_rate):\n",
        "  data_copy = data.copy()\n",
        "\n",
        "  # Keeps time column from being filtered\n",
        "  if 'Time' in data.columns:\n",
        "    time_data = data['Time']\n",
        "    data_copy = data_copy.drop(columns='Time')\n",
        "  else:\n",
        "    time_data = None\n",
        "\n",
        "  # Low pass, cutoff frequency of 2 Hz\n",
        "  low_cutoff = 2\n",
        "  nyq = 0.5 * sampling_rate\n",
        "  b,a = scipy.signal.butter(2, low_cutoff / nyq, btype='low')\n",
        "  data_copy = pd.DataFrame(scipy.signal.filtfilt(b, a, data_copy.values, axis=0), columns=data.columns)\n",
        "\n",
        "  # Apply RMS (Root Mean Square) envelope\n",
        "\n",
        "  # Define windows\n",
        "  window_size = 25\n",
        "  num_samples = data_copy.shape[0]\n",
        "  num_windows = num_samples // window_size\n",
        "\n",
        "  # Creates a new dataframe with the RMS values\n",
        "  rms_dataframe = pd.DataFrame(columns=data.columns)\n",
        "  for column in data_copy.columns:\n",
        "    rms_values = []\n",
        "    for i in range(num_windows):\n",
        "      start_index = i * window_size\n",
        "      end_index = start_index + window_size\n",
        "      window_data = data_copy.iloc[start_index:end_index, data_copy.columns.get_loc(column)]\n",
        "      rms_value = np.sqrt(np.mean(window_data**2))\n",
        "      rms_values.append(rms_value)\n",
        "    rms_dataframe[column] = rms_values\n",
        "\n",
        "  # Add back time column\n",
        "  if time_data is not None:\n",
        "    rms_dataframe.insert(0, 'Time', time_data)\n",
        "\n",
        "  return rms_dataframe\n"
      ],
      "metadata": {
        "id": "emILUxe4Txkc"
      },
      "execution_count": null,
      "outputs": []
    },
    {
      "cell_type": "code",
      "source": [
        "'''\n",
        "get_restim_data(grasp_number, restim_data)\n",
        "\n",
        "Purpose: Determines the starting and stopping point of each trial for ONE GRASP\n",
        "TYPE depending on the restimulus data. Allows us to segment the kinematic/EMG\n",
        "data later.\n",
        "Parameters: The label for the grasp type you want to retrieve from the\n",
        "data (int), restimulus data (numpy array)\n",
        "Output: A list of tuples containing the starting and stopping times for each of\n",
        "the ten trials for that grasp type\n",
        "'''\n",
        "def get_restim_data(grasp_number, all_restim_data, time_unit):\n",
        "\n",
        "  trial_segments = []\n",
        "  in_trial = False\n",
        "  start_index = None\n",
        "\n",
        "  for i, val in enumerate(all_restim_data):\n",
        "    # If a new trial begins, record the starting time\n",
        "    if not in_trial and grasp_number == val:\n",
        "      in_trial = True\n",
        "      start_index = i\n",
        "    # If a trial ends, record the ending time and append new timestamps\n",
        "    elif in_trial and grasp_number != val:\n",
        "      in_trial = False\n",
        "      stop_index = i\n",
        "      # Scales index to account for difference in index and sampling rate\n",
        "      start_index_scaled = int(start_index // time_unit)\n",
        "      stop_index_scaled = int(stop_index // time_unit)\n",
        "\n",
        "      trial_segments.append((start_index_scaled, stop_index_scaled))\n",
        "    # If all 10 trials have been recorded, return the full list of segments\n",
        "    if len(trial_segments) == 10:\n",
        "      return trial_segments\n",
        "\n",
        "  return trial_segments # Fallback in case 10 segments is never reached"
      ],
      "metadata": {
        "id": "15eI4C_6cpCi"
      },
      "execution_count": null,
      "outputs": []
    },
    {
      "cell_type": "code",
      "source": [
        "'''\n",
        "gather_restim_timestamps_and_labels()\n",
        "\n",
        "Purpose: Finds and records the timestaps for every trial done by the subject,\n",
        "creates a list of corresponding grasp labels.\n",
        "Parameters: Restimulus data (numpy array), time unit (float)\n",
        "Output: List of timestamps (tuples) for each trial done by the subject, list\n",
        "of grasp labels for each trial done by the subject\n",
        "\n",
        "'''\n",
        "def gather_restim_timestamps_and_labels(all_restim_data, time_unit):\n",
        "\n",
        "  restim_timestamps = []\n",
        "  restim_labels = []\n",
        "  for grasp_number in labels:\n",
        "    grasp_restim_timestamps = get_restim_data(grasp_number, all_restim_data, time_unit)\n",
        "    restim_timestamps.extend(grasp_restim_timestamps)\n",
        "    restim_labels.extend([labels[grasp_number] for _ in range(10)])\n",
        "  return restim_timestamps, restim_labels"
      ],
      "metadata": {
        "id": "xYzM2Uf1cqiq"
      },
      "execution_count": null,
      "outputs": []
    },
    {
      "cell_type": "code",
      "source": [
        "'''\n",
        "segment_data(dataframe, timestamps)\n",
        "\n",
        "Purpose: Divide the kinematic data into separate dataframes for each trial\n",
        "done by the subject\n",
        "Parameters: Unsegmented data (Pandas dataframe), list of timestamps (list)\n",
        "Output: Segmeted list of dataframes based on timestamps (lsit)\n",
        "'''\n",
        "def segment_data(dataframe, timestamps):\n",
        "  trials = []\n",
        "  for start_index, end_index in timestamps:\n",
        "    trial_dataframe = dataframe.iloc[start_index:end_index].reset_index(drop=True)\n",
        "    trials.append(trial_dataframe)\n",
        "  return trials\n"
      ],
      "metadata": {
        "id": "L_o98UjJcxVi"
      },
      "execution_count": null,
      "outputs": []
    },
    {
      "cell_type": "code",
      "source": [
        "'''\n",
        "normalize_emg_data(emg_data)\n",
        "\n",
        "Purpose: Normalizes EMG data based on the 95th percentile signal for each\n",
        "electrode\n",
        "Parameters: Segmented, un-normalized EMG data (list of Pandas Dataframes)\n",
        "Output: Normalized EMG data (list of Pandas Dataframes)\n",
        "'''\n",
        "def normalize_emg_data(emg_data):\n",
        "  result = []\n",
        "  # Gathers EMG values from all trials in the subject together\n",
        "  big_dict = {}\n",
        "  for trial in emg_data:\n",
        "    for column in trial.columns:\n",
        "      if column == 'Time':\n",
        "        continue\n",
        "      else:\n",
        "        if column not in big_dict:\n",
        "          big_dict[column] = []\n",
        "        big_dict[column].extend(trial[column])\n",
        "  # Calculates the 95th percentile EMG value for each column, stores in new dict\n",
        "  percentile_dict = {}\n",
        "  for key, value in big_dict.items():\n",
        "    percentile_dict[key] = np.percentile(value, 95)\n",
        "  # Creates a new dataframe for each trial with the normalized data\n",
        "  for trial in emg_data:\n",
        "    trial_dict = {}\n",
        "    for column in trial.columns:\n",
        "      if column == 'Time':\n",
        "        trial_dict[column] = trial[column]\n",
        "      else:\n",
        "        trial_dict[column] = trial[column] / percentile_dict[column]\n",
        "    trial_df = pd.DataFrame(trial_dict).copy()\n",
        "    result.append(trial_df)\n",
        "  return result"
      ],
      "metadata": {
        "id": "UZ5fXp5lejW1"
      },
      "execution_count": null,
      "outputs": []
    },
    {
      "cell_type": "code",
      "source": [
        "'''\n",
        "visualize_sample(trials, trial_number, columns)\n",
        "\n",
        "Purpose: Creates a graph of the kinematic or EMG data for one specific trial\n",
        "based on specified columns. Entering columns 'Angle_1' and 'Angle_2' will return\n",
        "a graph of those specific signals for the trial.\n",
        "Parameters: Segmented trials (list of Dataframes), Trial number (int), columns\n",
        "to display (list of strings)\n",
        "Output: Matplotlib graph\n",
        "'''\n",
        "def visualize_sample(trials, trial_number, columns):\n",
        "  num_participants = 1\n",
        "  grasp_type = labels[trial_number%10 + 1]\n",
        "\n",
        "  # Create plot (using subplots in case this function eventually compares graphs)\n",
        "  fig, ax = plt.subplots(num_participants, 1, figsize = (10, 4 * num_participants), sharex=True)\n",
        "  fig.suptitle(f'Sample Visualization for Trial {trial_number}, {grasp_type}' , fontsize=16)\n",
        "\n",
        "  # Plot data\n",
        "  for column in columns:\n",
        "    ax.plot(trials[trial_number]['Time'], trials[trial_number][column], label=column)\n",
        "  ax.set_ylabel('Joint Angle (Degrees)')\n",
        "  ax.legend()\n",
        "\n",
        "  # Add common x-label\n",
        "  plt.xlabel('Time (s)')\n",
        "\n",
        "  # Adjust layout\n",
        "  plt.tight_layout(rect=[0,0, 1, 0.95])\n",
        "\n",
        "  # Show the plot\n",
        "  plt.show()"
      ],
      "metadata": {
        "id": "bTMb-VK3en0v"
      },
      "execution_count": null,
      "outputs": []
    },
    {
      "cell_type": "code",
      "source": [
        "'''\n",
        "visualize_full_grasp(trials, grasp_type, columns)\n",
        "\n",
        "Purpose: Creates a graph of all the kinematic of EMG data for a specific grasp\n",
        "type for one participant. Entering columns 'Angle_1' and 'Angle_2' will return\n",
        "a graph of those specific signals for the trial.\n",
        "Parameters: Segmented trials (list of Dataframes), grasp type (int), columns to\n",
        "display (list of strings)\n",
        "Output: Matplotlib graph\n",
        "'''\n",
        "def visualize_full_grasp(trials, grasp_type, columns):\n",
        "  grasp_start_index = (grasp_type-1) * 10\n",
        "  grasp_end_index = grasp_start_index + 10\n",
        "  grasp_trials_copy = copy.deepcopy(trials[grasp_start_index:grasp_end_index])\n",
        "\n",
        "  # Create plot\n",
        "  fig, ax = plt.subplots(1, figsize=(10, 4), sharex=True)\n",
        "  fig.suptitle(f'Sample Visualization for {labels[grasp_type]}' , fontsize=16)\n",
        "\n",
        "  # Create random color for each column\n",
        "  colors = {}\n",
        "  for column in columns:\n",
        "    colors[column] = '#%06X' % random.randint(0, 0xFFFFFF)\n",
        "\n",
        "  # Plot trial data\n",
        "  for trial in grasp_trials_copy:\n",
        "    for column in columns:\n",
        "        relative_time = trial['Time'] - trial['Time'][0]\n",
        "        ax.plot(relative_time, trial[column], label=column, alpha=0.2,\n",
        "                color=colors[column])\n",
        "\n",
        "  # Plot average of data across trials\n",
        "  averaged_lines = []\n",
        "  line_labels = []\n",
        "  for column in columns:\n",
        "\n",
        "    # Concatenate and average data\n",
        "    trial_list = [grasp_trials_copy[i][column] for i in range(len(grasp_trials_copy))]\n",
        "    concatenated_data = pd.concat(trial_list)\n",
        "    averaged_column_data = concatenated_data.groupby(level=0).mean()\n",
        "\n",
        "    # Find relative time (assumes stimulus data)\n",
        "    time_sampling_rate = 100\n",
        "    averaged_relative_time = averaged_column_data.index / time_sampling_rate\n",
        "    # relative_time = grasp_trials_copy[0]['Time'] - grasp_trials_copy[0]['Time'][0]\n",
        "\n",
        "    # Plot averaged data\n",
        "    new_line, = ax.plot(averaged_relative_time, averaged_column_data, alpha=1, color = colors[column])\n",
        "    averaged_lines.append(new_line)\n",
        "    line_labels.append(column)\n",
        "\n",
        "  plt.legend(averaged_lines, line_labels)\n",
        "\n",
        "  # Add common x-label\n",
        "  plt.xlabel('Time (s)')\n",
        "\n",
        "  # Adjust layout\n",
        "  plt.tight_layout(rect=[0,0, 1, 0.95])\n",
        "\n",
        "  # Show the plot\n",
        "  plt.show()"
      ],
      "metadata": {
        "id": "AS94Hy1OSNHX"
      },
      "execution_count": null,
      "outputs": []
    },
    {
      "cell_type": "code",
      "source": [
        "'''\n",
        "find_outliers(subject_data)\n",
        "\n",
        "Purpose: Determine any outliers in a dataset.\n",
        "Parameters: List of a certain numerical quantity for each subject, such as\n",
        "height or weight (list)\n",
        "Output: List of the index of any outliers in the data (list)\n",
        "'''\n",
        "def find_outliers(subject_data):\n",
        "\n",
        "  value_list = list(subject_data.values())\n",
        "  # Find mean and IQR\n",
        "  mean = np.mean(value_list)\n",
        "  q1, q3 = np.percentile(value_list, [25, 75])\n",
        "  iqr = q3 - q1\n",
        "  # find upper and lower bounds\n",
        "  lower_bound = q1 - 1.5 * iqr\n",
        "  upper_bound = q3 + 1.5 * iqr\n",
        "  # Find outliers\n",
        "  outliers = []\n",
        "  for key, value in subject_data.items():\n",
        "    if value < lower_bound or value > upper_bound:\n",
        "      outliers.append(key)\n",
        "\n",
        "  return outliers"
      ],
      "metadata": {
        "id": "nIuPTlsXerEq"
      },
      "execution_count": null,
      "outputs": []
    },
    {
      "cell_type": "code",
      "source": [
        "'''\n",
        "features_to_csv(features, filename)\n",
        "\n",
        "Purpose: Extracting features for every subject takes a long time. This function\n",
        "saves the results of feature extraction as a csv for easy feature retrieval\n",
        "after processing.\n",
        "Parameters: list of all features (list), desired name of file (str)\n",
        "Output: None\n",
        "'''\n",
        "def features_to_csv(features, filename):\n",
        "  df = pd.DataFrame(features)\n",
        "  file_path = '/content/drive/MyDrive/Grasp Project /Data /Ninapro DB1/' + filename\n",
        "  df.to_csv(file_path, index=False)\n"
      ],
      "metadata": {
        "id": "o4zi5LoXe1XD"
      },
      "execution_count": null,
      "outputs": []
    },
    {
      "cell_type": "code",
      "source": [
        "'''\n",
        "csv_to_features(filename)\n",
        "\n",
        "Purpose: Converts saved feature results back into their original format.\n",
        "Parameters: filename (str)\n",
        "Output: list of all features (list)\n",
        "'''\n",
        "def csv_to_features(filename):\n",
        "  features_df = pd.read_csv('/content/drive/MyDrive/Grasp Project /Data /Ninapro DB1/' + filename)\n",
        "  return features_df.values"
      ],
      "metadata": {
        "id": "I8Qg-NH7e5vS"
      },
      "execution_count": null,
      "outputs": []
    },
    {
      "cell_type": "code",
      "source": [
        "'''\n",
        "find_subject_number(subject_folder_path)\n",
        "\n",
        "Purpose: Find the number of the subject based on their folder path.\n",
        "Parameters: subject folder path (string)\n",
        "Output: subject number (int)\n",
        "'''\n",
        "def find_subject_number(subject_folder_path):\n",
        "  max_index = len(subject_folder_path) - 1\n",
        "  start_index = subject_folder_path.find('Subject_') + len('Subject_')\n",
        "  if start_index == max_index:\n",
        "    subject_number = subject_folder_path[-1]\n",
        "  else:\n",
        "    subject_number = subject_folder_path[-2:]\n",
        "  return subject_number"
      ],
      "metadata": {
        "id": "oe_LGVY009hD"
      },
      "execution_count": null,
      "outputs": []
    }
  ]
}